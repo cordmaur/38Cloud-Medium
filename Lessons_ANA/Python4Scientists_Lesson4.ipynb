{
  "nbformat": 4,
  "nbformat_minor": 0,
  "metadata": {
    "colab": {
      "provenance": [],
      "toc_visible": true,
      "authorship_tag": "ABX9TyOZazIPPq5Ich5PfGZcuDQn",
      "include_colab_link": true
    },
    "kernelspec": {
      "name": "python3",
      "display_name": "Python 3"
    },
    "language_info": {
      "name": "python"
    }
  },
  "cells": [
    {
      "cell_type": "markdown",
      "metadata": {
        "id": "view-in-github",
        "colab_type": "text"
      },
      "source": [
        "<a href=\"https://colab.research.google.com/github/cordmaur/38Cloud-Medium/blob/master/Lessons_ANA/Python4Scientists_Lesson4.ipynb\" target=\"_parent\"><img src=\"https://colab.research.google.com/assets/colab-badge.svg\" alt=\"Open In Colab\"/></a>"
      ]
    },
    {
      "cell_type": "markdown",
      "metadata": {
        "id": "jHgaiX0MablB"
      },
      "source": [
        "# Introduction to Python for Scientists - Lesson 4\n"
      ]
    },
    {
      "cell_type": "markdown",
      "metadata": {
        "id": "lSLEXTQmaiUI"
      },
      "source": [
        "## Exercises solution"
      ]
    },
    {
      "cell_type": "code",
      "metadata": {
        "colab": {
          "base_uri": "https://localhost:8080/"
        },
        "id": "rcyNImirgolt",
        "outputId": "bedd13fb-6b6f-4174-d4ec-f9806d58336d"
      },
      "source": [
        "import random\n",
        "\n",
        "# create the days and daily rain\n",
        "# Fix the random seed \n",
        "random.seed(1)\n",
        "\n",
        "daily_rain = []\n",
        "day_of_month = []\n",
        "\n",
        "for i in range(1, 32, 1):\n",
        "    day_of_month.append(i)\n",
        "    rainy = random.randint(0, 1)\n",
        "    if rainy == 1:\n",
        "        daily_rain.append(random.randint(0, 100))\n",
        "    else:\n",
        "        daily_rain.append(0)\n",
        "    \n",
        "\n",
        "str(day_of_month), str(daily_rain)"
      ],
      "execution_count": null,
      "outputs": [
        {
          "output_type": "execute_result",
          "data": {
            "text/plain": [
              "('[1, 2, 3, 4, 5, 6, 7, 8, 9, 10, 11, 12, 13, 14, 15, 16, 17, 18, 19, 20, 21, 22, 23, 24, 25, 26, 27, 28, 29, 30, 31]',\n",
              " '[0, 0, 15, 97, 60, 100, 0, 0, 3, 55, 0, 34, 0, 0, 3, 0, 0, 0, 87, 0, 92, 0, 0, 63, 0, 29, 0, 37, 0, 71, 0]')"
            ]
          },
          "metadata": {},
          "execution_count": 2
        }
      ]
    },
    {
      "cell_type": "code",
      "metadata": {
        "colab": {
          "base_uri": "https://localhost:8080/",
          "height": 655
        },
        "id": "EbYm-tvvgojV",
        "outputId": "344341c4-dc76-41d8-8180-3cb961a532ae"
      },
      "source": [
        "import matplotlib.pyplot as plt\n",
        "plt.figure(figsize=(18, 9))\n",
        "plt.bar(day_of_month, daily_rain)"
      ],
      "execution_count": null,
      "outputs": [
        {
          "output_type": "execute_result",
          "data": {
            "text/plain": [
              "<BarContainer object of 31 artists>"
            ]
          },
          "metadata": {},
          "execution_count": 3
        },
        {
          "output_type": "display_data",
          "data": {
            "text/plain": [
              "<Figure size 1800x900 with 1 Axes>"
            ],
            "image/png": "[encoded data removed]"
          },
          "metadata": {}
        }
      ]
    },
    {
      "cell_type": "markdown",
      "metadata": {
        "id": "YFXTAHQ-gy4H"
      },
      "source": [
        "Answer these questions:\n",
        "* number of days with rain\n",
        "* day of the maximum rain and day of the minimum rain\n",
        "* total rain\n",
        "* mean rain\n",
        "* <b>Challenge:</b> order the <b>days</b> according to the rain precipitation. Descending order (from highest to lowest). Ex: [12, 7, ...]"
      ]
    },
    {
      "cell_type": "code",
      "metadata": {
        "colab": {
          "base_uri": "https://localhost:8080/"
        },
        "id": "3k2kV4T-mCrg",
        "outputId": "05a2c5fb-eba7-4116-9f7d-29eff6c23c55"
      },
      "source": [
        "days_with_rain = 0\n",
        "for rain in daily_rain:\n",
        "    if rain > 0:\n",
        "        days_with_rain += 1\n",
        "days_with_rain"
      ],
      "execution_count": null,
      "outputs": [
        {
          "output_type": "execute_result",
          "data": {
            "text/plain": [
              "14"
            ]
          },
          "metadata": {},
          "execution_count": 8
        }
      ]
    },
    {
      "cell_type": "code",
      "source": [
        "# Maximum daily rain\n",
        "max_rain = daily_rain[0]\n",
        "\n",
        "for rain in daily_rain:\n",
        "    if rain > max_rain:\n",
        "        max_rain = rain\n",
        "\n",
        "max_rain"
      ],
      "metadata": {
        "colab": {
          "base_uri": "https://localhost:8080/"
        },
        "id": "btaZQnEMLk_R",
        "outputId": "c513ac55-6aed-48a6-97b5-7335ded01192"
      },
      "execution_count": null,
      "outputs": [
        {
          "output_type": "execute_result",
          "data": {
            "text/plain": [
              "100"
            ]
          },
          "metadata": {},
          "execution_count": 9
        }
      ]
    },
    {
      "cell_type": "code",
      "source": [
        "# Minimum (non-zero) daily rain\n",
        "min_rain = max_rain\n",
        "\n",
        "for rain in daily_rain:\n",
        "    if rain < min_rain and rain != 0:\n",
        "        min_rain = rain\n",
        "\n",
        "min_rain\n"
      ],
      "metadata": {
        "colab": {
          "base_uri": "https://localhost:8080/"
        },
        "id": "hVBZm8d_ME43",
        "outputId": "b20de06f-2a83-4bcd-c9a8-e70f9eef76e8"
      },
      "execution_count": null,
      "outputs": [
        {
          "output_type": "execute_result",
          "data": {
            "text/plain": [
              "3"
            ]
          },
          "metadata": {},
          "execution_count": 11
        }
      ]
    },
    {
      "cell_type": "code",
      "metadata": {
        "colab": {
          "base_uri": "https://localhost:8080/"
        },
        "id": "RD_JMveQmWLv",
        "outputId": "5a866cf1-53d8-4c33-af0b-e508d9e41b1c"
      },
      "source": [
        "max_rain = 0\n",
        "day_of_max = 0\n",
        "\n",
        "min_rain = 99999\n",
        "day_of_min = 0\n",
        "\n",
        "for day, rain in zip(day_of_month, daily_rain):\n",
        "    if rain > max_rain:\n",
        "        max_rain = rain\n",
        "        day_of_max = day\n",
        "    \n",
        "    if rain < min_rain and rain > 0:\n",
        "        min_rain = rain\n",
        "        day_of_min = day\n",
        "\n",
        "\n",
        "day_of_max, day_of_min\n",
        "\n",
        "\n",
        "# import sys\n",
        "# print(sys.maxint)\n"
      ],
      "execution_count": null,
      "outputs": [
        {
          "output_type": "execute_result",
          "data": {
            "text/plain": [
              "(6, 9)"
            ]
          },
          "metadata": {},
          "execution_count": 13
        }
      ]
    },
    {
      "cell_type": "code",
      "metadata": {
        "colab": {
          "base_uri": "https://localhost:8080/"
        },
        "id": "Buly7otVmWJQ",
        "outputId": "8492f958-c70d-4c5c-c98e-eeb1d88e9bfc"
      },
      "source": [
        "total_rain = 0\n",
        "for rain in daily_rain:\n",
        "    total_rain += rain\n",
        "total_rain"
      ],
      "execution_count": null,
      "outputs": [
        {
          "output_type": "execute_result",
          "data": {
            "text/plain": [
              "746"
            ]
          },
          "metadata": {},
          "execution_count": 14
        }
      ]
    },
    {
      "cell_type": "code",
      "metadata": {
        "colab": {
          "base_uri": "https://localhost:8080/"
        },
        "id": "Ed9r068nmWGl",
        "outputId": "48072a25-94ec-464c-efbb-3b2826dd26c3"
      },
      "source": [
        "mean_rain = total_rain / len(daily_rain)\n",
        "mean_rain"
      ],
      "execution_count": null,
      "outputs": [
        {
          "output_type": "execute_result",
          "data": {
            "text/plain": [
              "24.06451612903226"
            ]
          },
          "metadata": {},
          "execution_count": 15
        }
      ]
    },
    {
      "cell_type": "code",
      "metadata": {
        "colab": {
          "base_uri": "https://localhost:8080/"
        },
        "id": "ANZ2iRSXowfH",
        "outputId": "71e43464-9f31-4949-d1eb-95066a58b626"
      },
      "source": [
        "sorted_rain = daily_rain.copy()\n",
        "sorted_days = day_of_month.copy()\n",
        "\n",
        "print('Original list')\n",
        "print(sorted_rain)\n",
        "\n",
        "for i in range(len(sorted_rain)):\n",
        "    for j in range(i+1, len(sorted_rain)):\n",
        "        if sorted_rain[j] > sorted_rain[i]:\n",
        "\n",
        "            print(f'swapping i={i}({sorted_rain[i]}) with j={j}({sorted_rain[j]})')\n",
        "\n",
        "            # swap the rain\n",
        "            temp = sorted_rain[i]\n",
        "            sorted_rain[i] = sorted_rain[j]\n",
        "            sorted_rain[j] = temp\n",
        "\n",
        "            # swap the days\n",
        "            temp = sorted_days[i]\n",
        "            sorted_days[i] = sorted_days[j]\n",
        "            sorted_days[j] = temp\n",
        "\n",
        "            print(sorted_rain)\n",
        "    \n",
        "print('\\n Final lists')\n",
        "print(sorted_rain)\n",
        "print(sorted_days)"
      ],
      "execution_count": null,
      "outputs": [
        {
          "output_type": "stream",
          "name": "stdout",
          "text": [
            "Original list\n",
            "[0, 0, 15, 97, 60, 100, 0, 0, 3, 55, 0, 34, 0, 0, 3, 0, 0, 0, 87, 0, 92, 0, 0, 63, 0, 29, 0, 37, 0, 71, 0]\n",
            "swapping i=0(0) with j=2(15)\n",
            "[15, 0, 0, 97, 60, 100, 0, 0, 3, 55, 0, 34, 0, 0, 3, 0, 0, 0, 87, 0, 92, 0, 0, 63, 0, 29, 0, 37, 0, 71, 0]\n",
            "swapping i=0(15) with j=3(97)\n",
            "[97, 0, 0, 15, 60, 100, 0, 0, 3, 55, 0, 34, 0, 0, 3, 0, 0, 0, 87, 0, 92, 0, 0, 63, 0, 29, 0, 37, 0, 71, 0]\n",
            "swapping i=0(97) with j=5(100)\n",
            "[100, 0, 0, 15, 60, 97, 0, 0, 3, 55, 0, 34, 0, 0, 3, 0, 0, 0, 87, 0, 92, 0, 0, 63, 0, 29, 0, 37, 0, 71, 0]\n",
            "swapping i=1(0) with j=3(15)\n",
            "[100, 15, 0, 0, 60, 97, 0, 0, 3, 55, 0, 34, 0, 0, 3, 0, 0, 0, 87, 0, 92, 0, 0, 63, 0, 29, 0, 37, 0, 71, 0]\n",
            "swapping i=1(15) with j=4(60)\n",
            "[100, 60, 0, 0, 15, 97, 0, 0, 3, 55, 0, 34, 0, 0, 3, 0, 0, 0, 87, 0, 92, 0, 0, 63, 0, 29, 0, 37, 0, 71, 0]\n",
            "swapping i=1(60) with j=5(97)\n",
            "[100, 97, 0, 0, 15, 60, 0, 0, 3, 55, 0, 34, 0, 0, 3, 0, 0, 0, 87, 0, 92, 0, 0, 63, 0, 29, 0, 37, 0, 71, 0]\n",
            "swapping i=2(0) with j=4(15)\n",
            "[100, 97, 15, 0, 0, 60, 0, 0, 3, 55, 0, 34, 0, 0, 3, 0, 0, 0, 87, 0, 92, 0, 0, 63, 0, 29, 0, 37, 0, 71, 0]\n",
            "swapping i=2(15) with j=5(60)\n",
            "[100, 97, 60, 0, 0, 15, 0, 0, 3, 55, 0, 34, 0, 0, 3, 0, 0, 0, 87, 0, 92, 0, 0, 63, 0, 29, 0, 37, 0, 71, 0]\n",
            "swapping i=2(60) with j=18(87)\n",
            "[100, 97, 87, 0, 0, 15, 0, 0, 3, 55, 0, 34, 0, 0, 3, 0, 0, 0, 60, 0, 92, 0, 0, 63, 0, 29, 0, 37, 0, 71, 0]\n",
            "swapping i=2(87) with j=20(92)\n",
            "[100, 97, 92, 0, 0, 15, 0, 0, 3, 55, 0, 34, 0, 0, 3, 0, 0, 0, 60, 0, 87, 0, 0, 63, 0, 29, 0, 37, 0, 71, 0]\n",
            "swapping i=3(0) with j=5(15)\n",
            "[100, 97, 92, 15, 0, 0, 0, 0, 3, 55, 0, 34, 0, 0, 3, 0, 0, 0, 60, 0, 87, 0, 0, 63, 0, 29, 0, 37, 0, 71, 0]\n",
            "swapping i=3(15) with j=9(55)\n",
            "[100, 97, 92, 55, 0, 0, 0, 0, 3, 15, 0, 34, 0, 0, 3, 0, 0, 0, 60, 0, 87, 0, 0, 63, 0, 29, 0, 37, 0, 71, 0]\n",
            "swapping i=3(55) with j=18(60)\n",
            "[100, 97, 92, 60, 0, 0, 0, 0, 3, 15, 0, 34, 0, 0, 3, 0, 0, 0, 55, 0, 87, 0, 0, 63, 0, 29, 0, 37, 0, 71, 0]\n",
            "swapping i=3(60) with j=20(87)\n",
            "[100, 97, 92, 87, 0, 0, 0, 0, 3, 15, 0, 34, 0, 0, 3, 0, 0, 0, 55, 0, 60, 0, 0, 63, 0, 29, 0, 37, 0, 71, 0]\n",
            "swapping i=4(0) with j=8(3)\n",
            "[100, 97, 92, 87, 3, 0, 0, 0, 0, 15, 0, 34, 0, 0, 3, 0, 0, 0, 55, 0, 60, 0, 0, 63, 0, 29, 0, 37, 0, 71, 0]\n",
            "swapping i=4(3) with j=9(15)\n",
            "[100, 97, 92, 87, 15, 0, 0, 0, 0, 3, 0, 34, 0, 0, 3, 0, 0, 0, 55, 0, 60, 0, 0, 63, 0, 29, 0, 37, 0, 71, 0]\n",
            "swapping i=4(15) with j=11(34)\n",
            "[100, 97, 92, 87, 34, 0, 0, 0, 0, 3, 0, 15, 0, 0, 3, 0, 0, 0, 55, 0, 60, 0, 0, 63, 0, 29, 0, 37, 0, 71, 0]\n",
            "swapping i=4(34) with j=18(55)\n",
            "[100, 97, 92, 87, 55, 0, 0, 0, 0, 3, 0, 15, 0, 0, 3, 0, 0, 0, 34, 0, 60, 0, 0, 63, 0, 29, 0, 37, 0, 71, 0]\n",
            "swapping i=4(55) with j=20(60)\n",
            "[100, 97, 92, 87, 60, 0, 0, 0, 0, 3, 0, 15, 0, 0, 3, 0, 0, 0, 34, 0, 55, 0, 0, 63, 0, 29, 0, 37, 0, 71, 0]\n",
            "swapping i=4(60) with j=23(63)\n",
            "[100, 97, 92, 87, 63, 0, 0, 0, 0, 3, 0, 15, 0, 0, 3, 0, 0, 0, 34, 0, 55, 0, 0, 60, 0, 29, 0, 37, 0, 71, 0]\n",
            "swapping i=4(63) with j=29(71)\n",
            "[100, 97, 92, 87, 71, 0, 0, 0, 0, 3, 0, 15, 0, 0, 3, 0, 0, 0, 34, 0, 55, 0, 0, 60, 0, 29, 0, 37, 0, 63, 0]\n",
            "swapping i=5(0) with j=9(3)\n",
            "[100, 97, 92, 87, 71, 3, 0, 0, 0, 0, 0, 15, 0, 0, 3, 0, 0, 0, 34, 0, 55, 0, 0, 60, 0, 29, 0, 37, 0, 63, 0]\n",
            "swapping i=5(3) with j=11(15)\n",
            "[100, 97, 92, 87, 71, 15, 0, 0, 0, 0, 0, 3, 0, 0, 3, 0, 0, 0, 34, 0, 55, 0, 0, 60, 0, 29, 0, 37, 0, 63, 0]\n",
            "swapping i=5(15) with j=18(34)\n",
            "[100, 97, 92, 87, 71, 34, 0, 0, 0, 0, 0, 3, 0, 0, 3, 0, 0, 0, 15, 0, 55, 0, 0, 60, 0, 29, 0, 37, 0, 63, 0]\n",
            "swapping i=5(34) with j=20(55)\n",
            "[100, 97, 92, 87, 71, 55, 0, 0, 0, 0, 0, 3, 0, 0, 3, 0, 0, 0, 15, 0, 34, 0, 0, 60, 0, 29, 0, 37, 0, 63, 0]\n",
            "swapping i=5(55) with j=23(60)\n",
            "[100, 97, 92, 87, 71, 60, 0, 0, 0, 0, 0, 3, 0, 0, 3, 0, 0, 0, 15, 0, 34, 0, 0, 55, 0, 29, 0, 37, 0, 63, 0]\n",
            "swapping i=5(60) with j=29(63)\n",
            "[100, 97, 92, 87, 71, 63, 0, 0, 0, 0, 0, 3, 0, 0, 3, 0, 0, 0, 15, 0, 34, 0, 0, 55, 0, 29, 0, 37, 0, 60, 0]\n",
            "swapping i=6(0) with j=11(3)\n",
            "[100, 97, 92, 87, 71, 63, 3, 0, 0, 0, 0, 0, 0, 0, 3, 0, 0, 0, 15, 0, 34, 0, 0, 55, 0, 29, 0, 37, 0, 60, 0]\n",
            "swapping i=6(3) with j=18(15)\n",
            "[100, 97, 92, 87, 71, 63, 15, 0, 0, 0, 0, 0, 0, 0, 3, 0, 0, 0, 3, 0, 34, 0, 0, 55, 0, 29, 0, 37, 0, 60, 0]\n",
            "swapping i=6(15) with j=20(34)\n",
            "[100, 97, 92, 87, 71, 63, 34, 0, 0, 0, 0, 0, 0, 0, 3, 0, 0, 0, 3, 0, 15, 0, 0, 55, 0, 29, 0, 37, 0, 60, 0]\n",
            "swapping i=6(34) with j=23(55)\n",
            "[100, 97, 92, 87, 71, 63, 55, 0, 0, 0, 0, 0, 0, 0, 3, 0, 0, 0, 3, 0, 15, 0, 0, 34, 0, 29, 0, 37, 0, 60, 0]\n",
            "swapping i=6(55) with j=29(60)\n",
            "[100, 97, 92, 87, 71, 63, 60, 0, 0, 0, 0, 0, 0, 0, 3, 0, 0, 0, 3, 0, 15, 0, 0, 34, 0, 29, 0, 37, 0, 55, 0]\n",
            "swapping i=7(0) with j=14(3)\n",
            "[100, 97, 92, 87, 71, 63, 60, 3, 0, 0, 0, 0, 0, 0, 0, 0, 0, 0, 3, 0, 15, 0, 0, 34, 0, 29, 0, 37, 0, 55, 0]\n",
            "swapping i=7(3) with j=20(15)\n",
            "[100, 97, 92, 87, 71, 63, 60, 15, 0, 0, 0, 0, 0, 0, 0, 0, 0, 0, 3, 0, 3, 0, 0, 34, 0, 29, 0, 37, 0, 55, 0]\n",
            "swapping i=7(15) with j=23(34)\n",
            "[100, 97, 92, 87, 71, 63, 60, 34, 0, 0, 0, 0, 0, 0, 0, 0, 0, 0, 3, 0, 3, 0, 0, 15, 0, 29, 0, 37, 0, 55, 0]\n",
            "swapping i=7(34) with j=27(37)\n",
            "[100, 97, 92, 87, 71, 63, 60, 37, 0, 0, 0, 0, 0, 0, 0, 0, 0, 0, 3, 0, 3, 0, 0, 15, 0, 29, 0, 34, 0, 55, 0]\n",
            "swapping i=7(37) with j=29(55)\n",
            "[100, 97, 92, 87, 71, 63, 60, 55, 0, 0, 0, 0, 0, 0, 0, 0, 0, 0, 3, 0, 3, 0, 0, 15, 0, 29, 0, 34, 0, 37, 0]\n",
            "swapping i=8(0) with j=18(3)\n",
            "[100, 97, 92, 87, 71, 63, 60, 55, 3, 0, 0, 0, 0, 0, 0, 0, 0, 0, 0, 0, 3, 0, 0, 15, 0, 29, 0, 34, 0, 37, 0]\n",
            "swapping i=8(3) with j=23(15)\n",
            "[100, 97, 92, 87, 71, 63, 60, 55, 15, 0, 0, 0, 0, 0, 0, 0, 0, 0, 0, 0, 3, 0, 0, 3, 0, 29, 0, 34, 0, 37, 0]\n",
            "swapping i=8(15) with j=25(29)\n",
            "[100, 97, 92, 87, 71, 63, 60, 55, 29, 0, 0, 0, 0, 0, 0, 0, 0, 0, 0, 0, 3, 0, 0, 3, 0, 15, 0, 34, 0, 37, 0]\n",
            "swapping i=8(29) with j=27(34)\n",
            "[100, 97, 92, 87, 71, 63, 60, 55, 34, 0, 0, 0, 0, 0, 0, 0, 0, 0, 0, 0, 3, 0, 0, 3, 0, 15, 0, 29, 0, 37, 0]\n",
            "swapping i=8(34) with j=29(37)\n",
            "[100, 97, 92, 87, 71, 63, 60, 55, 37, 0, 0, 0, 0, 0, 0, 0, 0, 0, 0, 0, 3, 0, 0, 3, 0, 15, 0, 29, 0, 34, 0]\n",
            "swapping i=9(0) with j=20(3)\n",
            "[100, 97, 92, 87, 71, 63, 60, 55, 37, 3, 0, 0, 0, 0, 0, 0, 0, 0, 0, 0, 0, 0, 0, 3, 0, 15, 0, 29, 0, 34, 0]\n",
            "swapping i=9(3) with j=25(15)\n",
            "[100, 97, 92, 87, 71, 63, 60, 55, 37, 15, 0, 0, 0, 0, 0, 0, 0, 0, 0, 0, 0, 0, 0, 3, 0, 3, 0, 29, 0, 34, 0]\n",
            "swapping i=9(15) with j=27(29)\n",
            "[100, 97, 92, 87, 71, 63, 60, 55, 37, 29, 0, 0, 0, 0, 0, 0, 0, 0, 0, 0, 0, 0, 0, 3, 0, 3, 0, 15, 0, 34, 0]\n",
            "swapping i=9(29) with j=29(34)\n",
            "[100, 97, 92, 87, 71, 63, 60, 55, 37, 34, 0, 0, 0, 0, 0, 0, 0, 0, 0, 0, 0, 0, 0, 3, 0, 3, 0, 15, 0, 29, 0]\n",
            "swapping i=10(0) with j=23(3)\n",
            "[100, 97, 92, 87, 71, 63, 60, 55, 37, 34, 3, 0, 0, 0, 0, 0, 0, 0, 0, 0, 0, 0, 0, 0, 0, 3, 0, 15, 0, 29, 0]\n",
            "swapping i=10(3) with j=27(15)\n",
            "[100, 97, 92, 87, 71, 63, 60, 55, 37, 34, 15, 0, 0, 0, 0, 0, 0, 0, 0, 0, 0, 0, 0, 0, 0, 3, 0, 3, 0, 29, 0]\n",
            "swapping i=10(15) with j=29(29)\n",
            "[100, 97, 92, 87, 71, 63, 60, 55, 37, 34, 29, 0, 0, 0, 0, 0, 0, 0, 0, 0, 0, 0, 0, 0, 0, 3, 0, 3, 0, 15, 0]\n",
            "swapping i=11(0) with j=25(3)\n",
            "[100, 97, 92, 87, 71, 63, 60, 55, 37, 34, 29, 3, 0, 0, 0, 0, 0, 0, 0, 0, 0, 0, 0, 0, 0, 0, 0, 3, 0, 15, 0]\n",
            "swapping i=11(3) with j=29(15)\n",
            "[100, 97, 92, 87, 71, 63, 60, 55, 37, 34, 29, 15, 0, 0, 0, 0, 0, 0, 0, 0, 0, 0, 0, 0, 0, 0, 0, 3, 0, 3, 0]\n",
            "swapping i=12(0) with j=27(3)\n",
            "[100, 97, 92, 87, 71, 63, 60, 55, 37, 34, 29, 15, 3, 0, 0, 0, 0, 0, 0, 0, 0, 0, 0, 0, 0, 0, 0, 0, 0, 3, 0]\n",
            "swapping i=13(0) with j=29(3)\n",
            "[100, 97, 92, 87, 71, 63, 60, 55, 37, 34, 29, 15, 3, 3, 0, 0, 0, 0, 0, 0, 0, 0, 0, 0, 0, 0, 0, 0, 0, 0, 0]\n",
            "\n",
            " Final lists\n",
            "[100, 97, 92, 87, 71, 63, 60, 55, 37, 34, 29, 15, 3, 3, 0, 0, 0, 0, 0, 0, 0, 0, 0, 0, 0, 0, 0, 0, 0, 0, 0]\n",
            "[6, 4, 21, 19, 30, 24, 5, 10, 28, 12, 26, 3, 9, 15, 8, 16, 17, 18, 1, 20, 2, 22, 23, 11, 25, 7, 27, 13, 29, 14, 31]\n"
          ]
        }
      ]
    },
    {
      "cell_type": "markdown",
      "metadata": {
        "id": "_URK_HNCk0bS"
      },
      "source": [
        "### **PYTHONIC**'S SOLUTIONS"
      ]
    },
    {
      "cell_type": "code",
      "source": [
        "print(daily_rain)\n",
        "print(day_of_month)"
      ],
      "metadata": {
        "colab": {
          "base_uri": "https://localhost:8080/"
        },
        "id": "y9QUnP6NUC8D",
        "outputId": "f87bbab7-2b95-4827-a97f-f397fee3d7d9"
      },
      "execution_count": null,
      "outputs": [
        {
          "output_type": "stream",
          "name": "stdout",
          "text": [
            "[0, 0, 15, 97, 60, 100, 0, 0, 3, 55, 0, 34, 0, 0, 3, 0, 0, 0, 87, 0, 92, 0, 0, 63, 0, 29, 0, 37, 0, 71, 0]\n",
            "[1, 2, 3, 4, 5, 6, 7, 8, 9, 10, 11, 12, 13, 14, 15, 16, 17, 18, 19, 20, 21, 22, 23, 24, 25, 26, 27, 28, 29, 30, 31]\n"
          ]
        }
      ]
    },
    {
      "cell_type": "code",
      "metadata": {
        "colab": {
          "base_uri": "https://localhost:8080/"
        },
        "id": "vwQVsKi-liWY",
        "outputId": "3007e293-63b4-4d78-fcd1-045657a3505d"
      },
      "source": [
        "# day of max\n",
        "max_rain = max(daily_rain)\n",
        "max_rain"
      ],
      "execution_count": null,
      "outputs": [
        {
          "output_type": "execute_result",
          "data": {
            "text/plain": [
              "100"
            ]
          },
          "metadata": {},
          "execution_count": 28
        }
      ]
    },
    {
      "cell_type": "code",
      "source": [
        "idx = daily_rain.index(max_rain)"
      ],
      "metadata": {
        "id": "OywIDmahT0k8"
      },
      "execution_count": null,
      "outputs": []
    },
    {
      "cell_type": "code",
      "source": [
        "day_of_month[idx]"
      ],
      "metadata": {
        "colab": {
          "base_uri": "https://localhost:8080/"
        },
        "id": "4UxGm3yiT0im",
        "outputId": "d7c31454-aaf7-422e-e5cc-5fbcdb1a69bf"
      },
      "execution_count": null,
      "outputs": [
        {
          "output_type": "execute_result",
          "data": {
            "text/plain": [
              "6"
            ]
          },
          "metadata": {},
          "execution_count": 33
        }
      ]
    },
    {
      "cell_type": "code",
      "source": [
        "# Or....\n",
        "day_of_month[daily_rain.index(max(daily_rain))]"
      ],
      "metadata": {
        "colab": {
          "base_uri": "https://localhost:8080/"
        },
        "id": "ERXb8W_KTyhr",
        "outputId": "00df2663-1fef-4030-8eb8-cd577b7a89c2"
      },
      "execution_count": null,
      "outputs": [
        {
          "output_type": "execute_result",
          "data": {
            "text/plain": [
              "6"
            ]
          },
          "metadata": {},
          "execution_count": 34
        }
      ]
    },
    {
      "cell_type": "code",
      "source": [
        "# day of min\n",
        "# be carefull \n",
        "min(daily_rain)"
      ],
      "metadata": {
        "colab": {
          "base_uri": "https://localhost:8080/"
        },
        "id": "0GbqdPSfUrYW",
        "outputId": "e152984a-b67b-4a13-aa85-2c004596b07f"
      },
      "execution_count": null,
      "outputs": [
        {
          "output_type": "execute_result",
          "data": {
            "text/plain": [
              "0"
            ]
          },
          "metadata": {},
          "execution_count": 39
        }
      ]
    },
    {
      "cell_type": "code",
      "source": [
        "# correct min rain\n",
        "min_rain = min(daily_rain, key=lambda x: x if x > 0 else 9999)\n",
        "min_rain"
      ],
      "metadata": {
        "colab": {
          "base_uri": "https://localhost:8080/"
        },
        "id": "qIs5Mw7cTykL",
        "outputId": "6a35ba84-906b-41bc-acdf-25b893963de5"
      },
      "execution_count": null,
      "outputs": [
        {
          "output_type": "execute_result",
          "data": {
            "text/plain": [
              "3"
            ]
          },
          "metadata": {},
          "execution_count": 41
        }
      ]
    },
    {
      "cell_type": "code",
      "source": [
        "day_of_month[daily_rain.index(min_rain)]"
      ],
      "metadata": {
        "colab": {
          "base_uri": "https://localhost:8080/"
        },
        "id": "UEu1EJLKTyXO",
        "outputId": "9bd6d182-dbaf-4eda-865e-b818d55853ed"
      },
      "execution_count": null,
      "outputs": [
        {
          "output_type": "execute_result",
          "data": {
            "text/plain": [
              "9"
            ]
          },
          "metadata": {},
          "execution_count": 43
        }
      ]
    },
    {
      "cell_type": "code",
      "source": [
        "# Accumulated rain\n",
        "sum(daily_rain)"
      ],
      "metadata": {
        "colab": {
          "base_uri": "https://localhost:8080/"
        },
        "id": "ReXGnl5IVL4F",
        "outputId": "47990bff-833d-43b8-bb6f-d256d4fed105"
      },
      "execution_count": null,
      "outputs": [
        {
          "output_type": "execute_result",
          "data": {
            "text/plain": [
              "746"
            ]
          },
          "metadata": {},
          "execution_count": 44
        }
      ]
    },
    {
      "cell_type": "code",
      "metadata": {
        "colab": {
          "base_uri": "https://localhost:8080/"
        },
        "id": "O-o9q72dloVW",
        "outputId": "8f5291ae-aa3e-47dc-dcb6-6dc27948dbb8"
      },
      "source": [
        "# Average rain\n",
        "sum(daily_rain)/len(daily_rain)"
      ],
      "execution_count": null,
      "outputs": [
        {
          "output_type": "execute_result",
          "data": {
            "text/plain": [
              "24.06451612903226"
            ]
          },
          "metadata": {},
          "execution_count": 27
        }
      ]
    },
    {
      "cell_type": "code",
      "source": [
        "# number of days with rain\n",
        "sum(list(map(lambda x: 1 if daily_rain[x-1] > 0 else 0, day_of_month)))"
      ],
      "metadata": {
        "colab": {
          "base_uri": "https://localhost:8080/"
        },
        "id": "G02o1ed2VcVF",
        "outputId": "a36e8c11-fc90-4fe2-afc4-ba9428a0fb91"
      },
      "execution_count": null,
      "outputs": [
        {
          "output_type": "execute_result",
          "data": {
            "text/plain": [
              "14"
            ]
          },
          "metadata": {},
          "execution_count": 46
        }
      ]
    },
    {
      "cell_type": "code",
      "metadata": {
        "colab": {
          "base_uri": "https://localhost:8080/",
          "height": 35
        },
        "id": "4NQO4CnIgog_",
        "outputId": "c4932c20-318f-4731-8443-39f29bb13915"
      },
      "source": [
        "sorted_day_of_month = day_of_month.copy()\n",
        "\n",
        "sorted_day_of_month.sort(key=lambda x: daily_rain[x-1], reverse=True)\n",
        "str(sorted_day_of_month)"
      ],
      "execution_count": null,
      "outputs": [
        {
          "output_type": "execute_result",
          "data": {
            "text/plain": [
              "'[6, 4, 21, 19, 30, 24, 5, 10, 28, 12, 26, 3, 9, 15, 1, 2, 7, 8, 11, 13, 14, 16, 17, 18, 20, 22, 23, 25, 27, 29, 31]'"
            ],
            "application/vnd.google.colaboratory.intrinsic+json": {
              "type": "string"
            }
          },
          "metadata": {},
          "execution_count": 47
        }
      ]
    },
    {
      "cell_type": "markdown",
      "metadata": {
        "id": "oDdmrl1dAt8q"
      },
      "source": [
        "## Basic Types - part 2 "
      ]
    },
    {
      "cell_type": "markdown",
      "metadata": {
        "id": "IOk7-87Qjfbe"
      },
      "source": [
        "### Set\n"
      ]
    },
    {
      "cell_type": "markdown",
      "metadata": {
        "id": "AkVazK88i8FI"
      },
      "source": [
        "\n",
        "(from w3 schools http://https://www.w3schools.com/python/python_sets.asp) \n",
        "\n",
        "\n",
        "Sets are used to store multiple items in a single variable.\n",
        "\n",
        "Set is one of 4 built-in data types in Python used to store collections of data, the other 3 are List, Tuple, and Dictionary, all with different qualities and usage.\n",
        "\n",
        "A set is a collection which is unordered, unchangeable*, and unindexed"
      ]
    },
    {
      "cell_type": "code",
      "metadata": {
        "colab": {
          "base_uri": "https://localhost:8080/"
        },
        "id": "RkFzdcjBbsx7",
        "outputId": "37c3c074-5045-44ac-9a25-781676622a89"
      },
      "source": [
        "myset = {\"apple\", \"banana\", \"cherry\", \"banana\"}\n",
        "myset"
      ],
      "execution_count": null,
      "outputs": [
        {
          "output_type": "execute_result",
          "data": {
            "text/plain": [
              "{'apple', 'banana', 'cherry'}"
            ]
          },
          "metadata": {},
          "execution_count": 52
        }
      ]
    },
    {
      "cell_type": "code",
      "metadata": {
        "id": "005zxsULhNO7"
      },
      "source": [
        "# UNORDERED\n",
        "# myset[0]"
      ],
      "execution_count": null,
      "outputs": []
    },
    {
      "cell_type": "code",
      "metadata": {
        "id": "L1JCBl_jjeCn"
      },
      "source": [
        "# set?"
      ],
      "execution_count": null,
      "outputs": []
    },
    {
      "cell_type": "code",
      "metadata": {
        "colab": {
          "base_uri": "https://localhost:8080/"
        },
        "id": "4SAWXDfJcZ9q",
        "outputId": "1ade8e76-18f9-44a6-ea8c-a23e6ea57d0d"
      },
      "source": [
        "myset2 = set(['banana', 'kiwi', 'pineapple'])\n",
        "myset2"
      ],
      "execution_count": null,
      "outputs": [
        {
          "output_type": "execute_result",
          "data": {
            "text/plain": [
              "{'banana', 'kiwi', 'pineapple'}"
            ]
          },
          "metadata": {},
          "execution_count": 55
        }
      ]
    },
    {
      "cell_type": "code",
      "metadata": {
        "colab": {
          "base_uri": "https://localhost:8080/"
        },
        "id": "6ZCKd3aQcBHD",
        "outputId": "594e75df-dfe8-438f-ad94-f83214f0edf1"
      },
      "source": [
        "myset.union(myset2)"
      ],
      "execution_count": null,
      "outputs": [
        {
          "output_type": "execute_result",
          "data": {
            "text/plain": [
              "{'apple', 'banana', 'cherry', 'kiwi', 'pineapple'}"
            ]
          },
          "metadata": {},
          "execution_count": 56
        }
      ]
    },
    {
      "cell_type": "code",
      "metadata": {
        "id": "Wu1NfwV5hcg8"
      },
      "source": [
        "myset3 = myset.difference(myset2)"
      ],
      "execution_count": null,
      "outputs": []
    },
    {
      "cell_type": "code",
      "metadata": {
        "colab": {
          "base_uri": "https://localhost:8080/"
        },
        "id": "T8vgCHmFhccv",
        "outputId": "ef5cce5e-173c-4ecf-a375-0877a779d978"
      },
      "source": [
        "for item in myset3:\n",
        "    print(item)"
      ],
      "execution_count": null,
      "outputs": [
        {
          "output_type": "stream",
          "name": "stdout",
          "text": [
            "apple\n",
            "cherry\n"
          ]
        }
      ]
    },
    {
      "cell_type": "code",
      "metadata": {
        "colab": {
          "base_uri": "https://localhost:8080/"
        },
        "id": "lOFuXMjmjlfu",
        "outputId": "2a2f0be5-d136-49c3-8991-3cf4f0bd39de"
      },
      "source": [
        "\"cherry\" in myset3"
      ],
      "execution_count": null,
      "outputs": [
        {
          "output_type": "execute_result",
          "data": {
            "text/plain": [
              "True"
            ]
          },
          "metadata": {},
          "execution_count": 20
        }
      ]
    },
    {
      "cell_type": "code",
      "metadata": {
        "id": "SleGAE7cbspE"
      },
      "source": [
        "# example: to determine what are the minimum necessary bands to run waterdetect\n",
        "# reference band = B3, clustering bands = B3, B8, B11, threshold bands = B8, B11\n",
        "# result = B3, B8, and B11"
      ],
      "execution_count": null,
      "outputs": []
    },
    {
      "cell_type": "code",
      "source": [
        "ref_band = {'B3'}\n",
        "clustering_bands = {'B3', 'B8', 'B11'}\n",
        "threshold_bands = {'B8', 'B11'}\n",
        "\n"
      ],
      "metadata": {
        "id": "gU-7qs_cW1iT"
      },
      "execution_count": null,
      "outputs": []
    },
    {
      "cell_type": "code",
      "source": [
        "ref_band | clustering_bands | threshold_bands"
      ],
      "metadata": {
        "colab": {
          "base_uri": "https://localhost:8080/"
        },
        "id": "riMNZw2nW_da",
        "outputId": "dad6e1e5-e75d-4ac6-8bf7-f592ce05160c"
      },
      "execution_count": null,
      "outputs": [
        {
          "output_type": "execute_result",
          "data": {
            "text/plain": [
              "{'B11', 'B3', 'B8'}"
            ]
          },
          "metadata": {},
          "execution_count": 64
        }
      ]
    },
    {
      "cell_type": "markdown",
      "metadata": {
        "id": "YU2R9ljBA8UK"
      },
      "source": [
        "### Tuples"
      ]
    },
    {
      "cell_type": "code",
      "metadata": {
        "id": "mR1M3kOnA-4x",
        "colab": {
          "base_uri": "https://localhost:8080/"
        },
        "outputId": "9caf22a7-5695-43c5-be01-0478741f90ca"
      },
      "source": [
        "t = (1, 2, 3, 4, 5)\n",
        "t"
      ],
      "execution_count": null,
      "outputs": [
        {
          "output_type": "execute_result",
          "data": {
            "text/plain": [
              "(1, 2, 3, 4, 5)"
            ]
          },
          "metadata": {},
          "execution_count": 65
        }
      ]
    },
    {
      "cell_type": "code",
      "metadata": {
        "id": "W7BZTGrXBOFA"
      },
      "source": [
        "# tuples are imutable\n",
        "# t[0] = 0"
      ],
      "execution_count": null,
      "outputs": []
    },
    {
      "cell_type": "code",
      "metadata": {
        "id": "9wYXtPOhFxsO"
      },
      "source": [
        "# t."
      ],
      "execution_count": null,
      "outputs": []
    },
    {
      "cell_type": "code",
      "metadata": {
        "id": "ogkVT3psA-1G",
        "colab": {
          "base_uri": "https://localhost:8080/"
        },
        "outputId": "43d1e7a7-9490-48ff-b787-3851aeb9fee7"
      },
      "source": [
        "type(t)"
      ],
      "execution_count": null,
      "outputs": [
        {
          "output_type": "execute_result",
          "data": {
            "text/plain": [
              "tuple"
            ]
          },
          "metadata": {},
          "execution_count": 69
        }
      ]
    },
    {
      "cell_type": "code",
      "metadata": {
        "id": "M-CPeTFYA-yI",
        "colab": {
          "base_uri": "https://localhost:8080/"
        },
        "outputId": "13685ec5-1fc3-432b-ef42-e92b051eb3a0"
      },
      "source": [
        "t[0:3]"
      ],
      "execution_count": null,
      "outputs": [
        {
          "output_type": "execute_result",
          "data": {
            "text/plain": [
              "(1, 2, 3)"
            ]
          },
          "metadata": {},
          "execution_count": 70
        }
      ]
    },
    {
      "cell_type": "code",
      "metadata": {
        "id": "p9YiBRrbB-cQ",
        "colab": {
          "base_uri": "https://localhost:8080/"
        },
        "outputId": "effdc30c-eed2-4e90-98ef-e0814fb2203a"
      },
      "source": [
        "# values separated by comma are packed into tuples automatically\n",
        "# Packing\n",
        "x = 0\n",
        "y = 1\n",
        "a = x, y\n",
        "a"
      ],
      "execution_count": null,
      "outputs": [
        {
          "output_type": "execute_result",
          "data": {
            "text/plain": [
              "(0, 1)"
            ]
          },
          "metadata": {},
          "execution_count": 72
        }
      ]
    },
    {
      "cell_type": "code",
      "metadata": {
        "id": "OpbxwwK1BOBp",
        "colab": {
          "base_uri": "https://localhost:8080/"
        },
        "outputId": "114b6777-7b0f-4640-fa70-34b54c5e46e1"
      },
      "source": [
        "# tuple unpacking\n",
        "(x, y) = a\n",
        "print(x)\n",
        "print(y)"
      ],
      "execution_count": null,
      "outputs": [
        {
          "output_type": "stream",
          "name": "stdout",
          "text": [
            "0\n",
            "1\n"
          ]
        }
      ]
    },
    {
      "cell_type": "code",
      "metadata": {
        "id": "rEtAIQDyPB2g",
        "colab": {
          "base_uri": "https://localhost:8080/"
        },
        "outputId": "ba1e50bd-189e-42a8-c1b8-f62ad97a8633"
      },
      "source": [
        "# Some operations\n",
        "# tuple joining\n",
        "t + (a,b)"
      ],
      "execution_count": null,
      "outputs": [
        {
          "output_type": "execute_result",
          "data": {
            "text/plain": [
              "(1, 2, 3, 4, 5, 0, 1)"
            ]
          },
          "metadata": {},
          "execution_count": 30
        }
      ]
    },
    {
      "cell_type": "code",
      "metadata": {
        "id": "NiM3pN5IP1EI",
        "colab": {
          "base_uri": "https://localhost:8080/"
        },
        "outputId": "e38ece73-1c66-460e-f34d-18c2a605f455"
      },
      "source": [
        "# Multiplication? No repetition...\n",
        "t*2"
      ],
      "execution_count": null,
      "outputs": [
        {
          "output_type": "execute_result",
          "data": {
            "text/plain": [
              "(1, 2, 3, 4, 5, 1, 2, 3, 4, 5)"
            ]
          },
          "metadata": {},
          "execution_count": 31
        }
      ]
    },
    {
      "cell_type": "code",
      "metadata": {
        "id": "tX9aPnBMCgna",
        "outputId": "c0b88f32-abf6-46bf-cb77-4b2382fb3427",
        "colab": {
          "base_uri": "https://localhost:8080/"
        }
      },
      "source": [
        "# Unpacking now works with any iterable\n",
        "employee = [\"John\", \"40\", \"Software Engineer\"]\n",
        "name = employee[0]\n",
        "age = employee[1]\n",
        "job = employee[2]\n",
        "name, age, job"
      ],
      "execution_count": null,
      "outputs": [
        {
          "output_type": "execute_result",
          "data": {
            "text/plain": [
              "('John', '40', 'Software Engineer')"
            ]
          },
          "metadata": {},
          "execution_count": 74
        }
      ]
    },
    {
      "cell_type": "code",
      "metadata": {
        "id": "W-bZl1xGE0NE",
        "outputId": "af30dd42-0638-4251-d116-749c6590f27e",
        "colab": {
          "base_uri": "https://localhost:8080/"
        }
      },
      "source": [
        "name, age, job = [\"John\", \"40\", \"Software Engineer\"]\n",
        "name, age, job"
      ],
      "execution_count": null,
      "outputs": [
        {
          "output_type": "execute_result",
          "data": {
            "text/plain": [
              "('John', '40', 'Software Engineer')"
            ]
          },
          "metadata": {},
          "execution_count": 75
        }
      ]
    },
    {
      "cell_type": "code",
      "metadata": {
        "id": "4RW0gvjXHmy7",
        "outputId": "f1868b8f-dc9a-438d-a7f7-105fe53bb05e",
        "colab": {
          "base_uri": "https://localhost:8080/"
        }
      },
      "source": [
        "# it can Unpack ANYTHING Python can iterate on (Iterable)\n",
        "m, a, u, r, i, c, i2, o = \"Maurício\"\n",
        "m, a, u, r, i, c, i2, o"
      ],
      "execution_count": null,
      "outputs": [
        {
          "output_type": "execute_result",
          "data": {
            "text/plain": [
              "('M', 'a', 'u', 'r', 'í', 'c', 'i', 'o')"
            ]
          },
          "metadata": {},
          "execution_count": 76
        }
      ]
    },
    {
      "cell_type": "markdown",
      "metadata": {
        "id": "cT05vK5hEbZk"
      },
      "source": [
        "<b>Note:</b> For more packing and unpacking examples, go to:<br>\n",
        "https://stackabuse.com/unpacking-in-python-beyond-parallel-assignment/#definingfunctionswithand"
      ]
    },
    {
      "cell_type": "markdown",
      "metadata": {
        "id": "nj5W2bfPGTlE"
      },
      "source": [
        "### List comprehension"
      ]
    },
    {
      "cell_type": "markdown",
      "metadata": {
        "id": "IOhMR3uOGc6f"
      },
      "source": [
        "List comprehension offers a shorter syntax when you want to create a new list based on any iterable. <br>\n",
        "[operation(X) for X in \"list\"] and each operation(X) will be an item of a new list"
      ]
    },
    {
      "cell_type": "code",
      "metadata": {
        "id": "6Z3dvDzOJHm9",
        "colab": {
          "base_uri": "https://localhost:8080/"
        },
        "outputId": "f644d490-8c94-4c8f-bc3c-2021a0c7fbc1"
      },
      "source": [
        "# Suppose we want the square of each item in this list, in a new list\n",
        "lst = [1, 2, 3, 4, 5]\n",
        "\n",
        "new_list = []\n",
        "for x in lst:\n",
        "    new_list.append(x**2)\n",
        "\n",
        "new_list"
      ],
      "execution_count": null,
      "outputs": [
        {
          "output_type": "execute_result",
          "data": {
            "text/plain": [
              "[1, 4, 9, 16, 25]"
            ]
          },
          "metadata": {},
          "execution_count": 80
        }
      ]
    },
    {
      "cell_type": "code",
      "metadata": {
        "id": "I9kE0ihWJwbl",
        "colab": {
          "base_uri": "https://localhost:8080/"
        },
        "outputId": "11c64c89-e764-4cd7-8b16-feb9fad971fd"
      },
      "source": [
        "new_list = [x**2 for x in lst]\n",
        "new_list"
      ],
      "execution_count": null,
      "outputs": [
        {
          "output_type": "execute_result",
          "data": {
            "text/plain": [
              "[1, 4, 9, 16, 25]"
            ]
          },
          "metadata": {},
          "execution_count": 81
        }
      ]
    },
    {
      "cell_type": "code",
      "metadata": {
        "colab": {
          "base_uri": "https://localhost:8080/"
        },
        "id": "Hhpx3qkYkEUd",
        "outputId": "b3ea4e02-a955-4ae5-ad87-6825d4a3630a"
      },
      "source": [
        "# unpacking inside a list comprehension\n",
        "# Suppose 3 students, with its ages:\n",
        "\n",
        "lst = [('A', 11), ('B', 9), ('C', 10)]\n",
        "lst"
      ],
      "execution_count": null,
      "outputs": [
        {
          "output_type": "execute_result",
          "data": {
            "text/plain": [
              "[('A', 11), ('B', 9), ('C', 10)]"
            ]
          },
          "metadata": {},
          "execution_count": 82
        }
      ]
    },
    {
      "cell_type": "code",
      "metadata": {
        "colab": {
          "base_uri": "https://localhost:8080/",
          "height": 35
        },
        "id": "Zww4f3UokRFI",
        "outputId": "663aebbc-6318-4633-a3bc-b5c0d5378870"
      },
      "source": [
        "lst[1][0]"
      ],
      "execution_count": null,
      "outputs": [
        {
          "output_type": "execute_result",
          "data": {
            "text/plain": [
              "'B'"
            ],
            "application/vnd.google.colaboratory.intrinsic+json": {
              "type": "string"
            }
          },
          "metadata": {},
          "execution_count": 83
        }
      ]
    },
    {
      "cell_type": "code",
      "metadata": {
        "id": "PgzMm54dGTDU",
        "colab": {
          "base_uri": "https://localhost:8080/"
        },
        "outputId": "c7ebe8a4-42ec-4879-f0a0-7c487e2e13e3"
      },
      "source": [
        "# create a lst like:\n",
        "# students = ['Student A has 11 years', 'Student B has 9 years', 'Student C has 10 years']\n",
        "students = []\n",
        "for student, age in lst:\n",
        "    s = \"Student \" + str(student) + \" has \" + str(age) + \" years\"\n",
        "    students.append(s)\n",
        "\n",
        "students"
      ],
      "execution_count": null,
      "outputs": [
        {
          "output_type": "execute_result",
          "data": {
            "text/plain": [
              "['Student A has 11 years', 'Student B has 9 years', 'Student C has 10 years']"
            ]
          },
          "metadata": {},
          "execution_count": 84
        }
      ]
    },
    {
      "cell_type": "code",
      "metadata": {
        "id": "gR0u3ZsQG-rS",
        "colab": {
          "base_uri": "https://localhost:8080/"
        },
        "outputId": "aecc9f96-10e7-4b55-c8d6-17d491ae0174"
      },
      "source": [
        "# in a more concise way\n",
        "students = [f\"Student {student} is {age} years old\" for student, age in lst]\n",
        "students"
      ],
      "execution_count": null,
      "outputs": [
        {
          "output_type": "execute_result",
          "data": {
            "text/plain": [
              "['Student A is 11 years old',\n",
              " 'Student B is 9 years old',\n",
              " 'Student C is 10 years old']"
            ]
          },
          "metadata": {},
          "execution_count": 85
        }
      ]
    },
    {
      "cell_type": "markdown",
      "metadata": {
        "id": "LdU4ssmaEar4"
      },
      "source": [
        "### Dictionaries\n",
        "Similar to lists, but with a key to identify each item<br>\n",
        "{key: value, key: value, key:value, ....}<br>\n",
        "Keys are imutables <br>\n",
        "<b>Note:</b> As of Python version 3.7, dictionaries are ordered. In Python 3.6 and earlier, dictionaries are unordered.\n",
        "\n",
        "\n",
        "\n",
        "\n"
      ]
    },
    {
      "cell_type": "code",
      "metadata": {
        "id": "ljXEj8TaV1fN",
        "colab": {
          "base_uri": "https://localhost:8080/"
        },
        "outputId": "94095f2f-6bb2-4f96-99c7-8776306cbb58"
      },
      "source": [
        "# if we received the structure proposed before, how could we get the age of student named C\n",
        "lst"
      ],
      "execution_count": null,
      "outputs": [
        {
          "output_type": "execute_result",
          "data": {
            "text/plain": [
              "[('A', 11), ('B', 9), ('C', 10)]"
            ]
          },
          "metadata": {},
          "execution_count": 88
        }
      ]
    },
    {
      "cell_type": "code",
      "source": [
        "# solution: go through the list, check the first item of the tuple, if it is C, get the second item of the tuple...\n",
        "desired_student = 'A'\n",
        "\n",
        "for student in lst:\n",
        "    if student[0] == desired_student:   \n",
        "        print(f'Student {desired_student} has {student[1]} years old')"
      ],
      "metadata": {
        "colab": {
          "base_uri": "https://localhost:8080/"
        },
        "id": "36lZcCisbBIp",
        "outputId": "d93d985c-b65f-4b76-fde1-1bb3e23ed5fe"
      },
      "execution_count": null,
      "outputs": [
        {
          "output_type": "stream",
          "name": "stdout",
          "text": [
            "Student A has 11 years old\n"
          ]
        }
      ]
    },
    {
      "cell_type": "code",
      "metadata": {
        "id": "SPPttmCAV1b7",
        "colab": {
          "base_uri": "https://localhost:8080/"
        },
        "outputId": "24d7f367-0b41-4f91-d514-2e8eecc2c512"
      },
      "source": [
        "# if data had been passed by 2 lists... we needed to use the common index to locate the age\n",
        "names = ['A', 'B', 'C']\n",
        "ages = [11, 9, 10]\n",
        "\n",
        "desired_student = 'C'\n",
        "\n",
        "idx = names.index(desired_student)\n",
        "print(ages[idx])"
      ],
      "execution_count": null,
      "outputs": [
        {
          "output_type": "stream",
          "name": "stdout",
          "text": [
            "10\n"
          ]
        }
      ]
    },
    {
      "cell_type": "code",
      "metadata": {
        "id": "xQAseaC4V1Pt",
        "colab": {
          "base_uri": "https://localhost:8080/"
        },
        "outputId": "84fbb1e1-50ad-46d2-d160-8d9d917e287d"
      },
      "source": [
        "# using dictionaries\n",
        "students = {'A': 11, 'B': 9, 'C': 10}\n",
        "students"
      ],
      "execution_count": null,
      "outputs": [
        {
          "output_type": "execute_result",
          "data": {
            "text/plain": [
              "{'A': 11, 'B': 9, 'C': 10}"
            ]
          },
          "metadata": {},
          "execution_count": 43
        }
      ]
    },
    {
      "cell_type": "code",
      "metadata": {
        "colab": {
          "base_uri": "https://localhost:8080/"
        },
        "id": "JOn_fErFk-EU",
        "outputId": "ef934c25-1c65-47c4-81f8-bc6d3a83e2d2"
      },
      "source": [
        "students['C']"
      ],
      "execution_count": null,
      "outputs": [
        {
          "output_type": "execute_result",
          "data": {
            "text/plain": [
              "10"
            ]
          },
          "metadata": {},
          "execution_count": 44
        }
      ]
    },
    {
      "cell_type": "code",
      "metadata": {
        "id": "kCGDvR7ZXiq-",
        "colab": {
          "base_uri": "https://localhost:8080/"
        },
        "outputId": "3cc659a5-db3d-4e77-e2ee-6169cc168a8e"
      },
      "source": [
        "# nothing prevent us to create inner dictionaries:\n",
        "students = {\n",
        "    'A': {'age': 11, 'Height': 145},\n",
        "    'B': {'age': 9, 'Height': 144.2},\n",
        "    'C': {'age': 10, 'Height': 147},\n",
        "}\n",
        "\n",
        "desired_student = 'C'\n",
        "students[desired_student]"
      ],
      "execution_count": null,
      "outputs": [
        {
          "output_type": "execute_result",
          "data": {
            "text/plain": [
              "{'age': 10, 'Height': 147}"
            ]
          },
          "metadata": {},
          "execution_count": 92
        }
      ]
    },
    {
      "cell_type": "code",
      "metadata": {
        "id": "Y1O4K8ykYtRj",
        "colab": {
          "base_uri": "https://localhost:8080/"
        },
        "outputId": "b395d21d-910b-4ed9-ca9e-2816e3b91943"
      },
      "source": [
        "students[desired_student]['age']"
      ],
      "execution_count": null,
      "outputs": [
        {
          "output_type": "execute_result",
          "data": {
            "text/plain": [
              "10"
            ]
          },
          "metadata": {},
          "execution_count": 93
        }
      ]
    },
    {
      "cell_type": "code",
      "metadata": {
        "id": "oZlPTKw8X6PT",
        "colab": {
          "base_uri": "https://localhost:8080/"
        },
        "outputId": "c3015cdf-b831-4467-e197-8ed4aead4b32"
      },
      "source": [
        "desired_student = 'B'\n",
        "print(f\"Student {desired_student} has {students[desired_student]['age']} and measures {students[desired_student]['Height']}\")"
      ],
      "execution_count": null,
      "outputs": [
        {
          "output_type": "stream",
          "name": "stdout",
          "text": [
            "Student B has 9 and measures 144.2\n"
          ]
        }
      ]
    },
    {
      "cell_type": "code",
      "source": [
        "# Dictionaries have 'keys' and 'values'\n",
        "\n",
        "print(students.keys())\n",
        "print(students.values())"
      ],
      "metadata": {
        "colab": {
          "base_uri": "https://localhost:8080/"
        },
        "id": "RYjXh29fdctd",
        "outputId": "5ec54db0-df4b-478d-ad2c-59e42b7fc23e"
      },
      "execution_count": null,
      "outputs": [
        {
          "output_type": "stream",
          "name": "stdout",
          "text": [
            "dict_keys(['A', 'B', 'C'])\n",
            "dict_values([{'age': 11, 'Height': 145}, {'age': 9, 'Height': 144.2}, {'age': 10, 'Height': 147}])\n"
          ]
        }
      ]
    },
    {
      "cell_type": "markdown",
      "metadata": {
        "id": "r9JvYOMyXh6d"
      },
      "source": [
        "Back to our hydrological example"
      ]
    },
    {
      "cell_type": "code",
      "metadata": {
        "id": "TsBZr_gF-ZQH",
        "colab": {
          "base_uri": "https://localhost:8080/"
        },
        "outputId": "beb469a4-6346-4eb0-90dd-291b43f4d772"
      },
      "source": [
        "str(day_of_month), str(daily_rain)"
      ],
      "execution_count": null,
      "outputs": [
        {
          "output_type": "execute_result",
          "data": {
            "text/plain": [
              "('[1, 2, 3, 4, 5, 6, 7, 8, 9, 10, 11, 12, 13, 14, 15, 16, 17, 18, 19, 20, 21, 22, 23, 24, 25, 26, 27, 28, 29, 30, 31]',\n",
              " '[0, 0, 15, 97, 60, 100, 0, 0, 3, 55, 0, 34, 0, 0, 3, 0, 0, 0, 87, 0, 92, 0, 0, 63, 0, 29, 0, 37, 0, 71, 0]')"
            ]
          },
          "metadata": {},
          "execution_count": 94
        }
      ]
    },
    {
      "cell_type": "code",
      "metadata": {
        "id": "f0Zelq4Hyer5",
        "outputId": "7e84f5e4-d2a7-4f44-e51e-304fb91d8d38",
        "colab": {
          "base_uri": "https://localhost:8080/"
        }
      },
      "source": [
        "# what happened on day X \n",
        "day = 15\n",
        "daily_rain[15-1]"
      ],
      "execution_count": null,
      "outputs": [
        {
          "output_type": "execute_result",
          "data": {
            "text/plain": [
              "3"
            ]
          },
          "metadata": {},
          "execution_count": 95
        }
      ]
    },
    {
      "cell_type": "code",
      "metadata": {
        "id": "FeeTveh2zPkU",
        "outputId": "5b7e8688-f958-4f38-e310-e952aef41702",
        "colab": {
          "base_uri": "https://localhost:8080/"
        }
      },
      "source": [
        "rain_dict = {day: rain for day, rain in zip(day_of_month, daily_rain)}\n",
        "rain_dict"
      ],
      "execution_count": null,
      "outputs": [
        {
          "output_type": "execute_result",
          "data": {
            "text/plain": [
              "{1: 0,\n",
              " 2: 0,\n",
              " 3: 15,\n",
              " 4: 97,\n",
              " 5: 60,\n",
              " 6: 100,\n",
              " 7: 0,\n",
              " 8: 0,\n",
              " 9: 3,\n",
              " 10: 55,\n",
              " 11: 0,\n",
              " 12: 34,\n",
              " 13: 0,\n",
              " 14: 0,\n",
              " 15: 3,\n",
              " 16: 0,\n",
              " 17: 0,\n",
              " 18: 0,\n",
              " 19: 87,\n",
              " 20: 0,\n",
              " 21: 92,\n",
              " 22: 0,\n",
              " 23: 0,\n",
              " 24: 63,\n",
              " 25: 0,\n",
              " 26: 29,\n",
              " 27: 0,\n",
              " 28: 37,\n",
              " 29: 0,\n",
              " 30: 71,\n",
              " 31: 0}"
            ]
          },
          "metadata": {},
          "execution_count": 96
        }
      ]
    },
    {
      "cell_type": "code",
      "metadata": {
        "id": "R0oM5Uv-ziE7",
        "outputId": "f6e6604d-e924-419f-d11a-d8209cb6c55e",
        "colab": {
          "base_uri": "https://localhost:8080/"
        }
      },
      "source": [
        "rain_dict[6]"
      ],
      "execution_count": null,
      "outputs": [
        {
          "output_type": "execute_result",
          "data": {
            "text/plain": [
              "100"
            ]
          },
          "metadata": {},
          "execution_count": 98
        }
      ]
    },
    {
      "cell_type": "code",
      "source": [
        "max(rain_dict.values())"
      ],
      "metadata": {
        "colab": {
          "base_uri": "https://localhost:8080/"
        },
        "id": "hWdbbQOidR0D",
        "outputId": "aa646e65-55ff-46d2-9f6e-0b6929fcb61b"
      },
      "execution_count": null,
      "outputs": [
        {
          "output_type": "execute_result",
          "data": {
            "text/plain": [
              "100"
            ]
          },
          "metadata": {},
          "execution_count": 113
        }
      ]
    },
    {
      "cell_type": "markdown",
      "source": [
        "## Exercise\n"
      ],
      "metadata": {
        "id": "B2lS_LFuePy2"
      }
    },
    {
      "cell_type": "markdown",
      "source": [
        "Answer these questions:\n",
        "* number of days with rain\n",
        "* day of the maximum rain and day of the minimum (non-zero) rain\n",
        "* total rain\n",
        "* mean rain\n",
        "* <b>Challenge:</b> order the <b>days</b> according to the rain precipitation. Descending order (from highest to lowest). Ex: [12, 7, ...]"
      ],
      "metadata": {
        "id": "PCUKC4FNd1GZ"
      }
    },
    {
      "cell_type": "markdown",
      "metadata": {
        "id": "8tmHvZgwy4p5"
      },
      "source": [
        "## Datetime Basics"
      ]
    },
    {
      "cell_type": "markdown",
      "metadata": {
        "id": "8wz098ikz1se"
      },
      "source": [
        "What if I wanted to create a complete time series?\n",
        "\n",
        "Let's test it with another data (river stage)"
      ]
    },
    {
      "cell_type": "code",
      "metadata": {
        "id": "UjhYTjPUzu6I",
        "outputId": "7e59427d-51f6-4dbb-83f0-996dceb415a8",
        "colab": {
          "base_uri": "https://localhost:8080/",
          "height": 447
        }
      },
      "source": [
        "# Now I will create a random walk (non-stationary) to represent river stage\n",
        "random.seed(2)\n",
        "\n",
        "river_stage = [100]\n",
        "\n",
        "for _ in range(365):\n",
        "    river_stage.append(river_stage[-1] + random.randint(-2, 2))    \n",
        "\n",
        "plt.plot(river_stage)"
      ],
      "execution_count": null,
      "outputs": [
        {
          "output_type": "execute_result",
          "data": {
            "text/plain": [
              "[<matplotlib.lines.Line2D at 0x7fba95880ca0>]"
            ]
          },
          "metadata": {},
          "execution_count": 100
        },
        {
          "output_type": "display_data",
          "data": {
            "text/plain": [
              "<Figure size 640x480 with 1 Axes>"
            ],
            "image/png": "[encoded data removed]"
          },
          "metadata": {}
        }
      ]
    },
    {
      "cell_type": "code",
      "metadata": {
        "id": "ax9u3TNNzu3l"
      },
      "source": [
        "# what happened on 1st of July? We could count, but it depends on the number of days that happen in february... :("
      ],
      "execution_count": null,
      "outputs": []
    },
    {
      "cell_type": "code",
      "metadata": {
        "id": "1tCtVqhFzVY8"
      },
      "source": [
        "from datetime import datetime, timedelta"
      ],
      "execution_count": null,
      "outputs": []
    },
    {
      "cell_type": "code",
      "metadata": {
        "id": "pAMzEsmDYR34",
        "outputId": "b1001219-57a2-4491-ef06-32cf11f3efbd",
        "colab": {
          "base_uri": "https://localhost:8080/"
        }
      },
      "source": [
        "datetime.now()"
      ],
      "execution_count": null,
      "outputs": [
        {
          "output_type": "execute_result",
          "data": {
            "text/plain": [
              "datetime.datetime(2023, 4, 3, 14, 6, 6, 614350)"
            ]
          },
          "metadata": {},
          "execution_count": 104
        }
      ]
    },
    {
      "cell_type": "code",
      "metadata": {
        "id": "nEeBEYLJy-IN",
        "outputId": "48d0e44a-90cb-485e-ccf6-d2b14810ca99",
        "colab": {
          "base_uri": "https://localhost:8080/"
        }
      },
      "source": [
        "dt = datetime(2021, 1, 1)\n",
        "dt"
      ],
      "execution_count": null,
      "outputs": [
        {
          "output_type": "execute_result",
          "data": {
            "text/plain": [
              "datetime.datetime(2021, 1, 1, 0, 0)"
            ]
          },
          "metadata": {},
          "execution_count": 105
        }
      ]
    },
    {
      "cell_type": "code",
      "metadata": {
        "id": "KJLQCN0fYNSi",
        "outputId": "9ec928c8-82c8-4955-ae43-fd8ac620258e",
        "colab": {
          "base_uri": "https://localhost:8080/"
        }
      },
      "source": [
        "dt2 = dt + timedelta(days=1)\n",
        "dt2"
      ],
      "execution_count": null,
      "outputs": [
        {
          "output_type": "execute_result",
          "data": {
            "text/plain": [
              "datetime.datetime(2021, 1, 2, 0, 0)"
            ]
          },
          "metadata": {},
          "execution_count": 106
        }
      ]
    },
    {
      "cell_type": "code",
      "metadata": {
        "id": "e2NWjY2kYfTV",
        "outputId": "972820d5-31e0-4a09-a8be-07e2e494efa4",
        "colab": {
          "base_uri": "https://localhost:8080/"
        }
      },
      "source": [
        "dt2 - dt"
      ],
      "execution_count": null,
      "outputs": [
        {
          "output_type": "execute_result",
          "data": {
            "text/plain": [
              "datetime.timedelta(days=1)"
            ]
          },
          "metadata": {},
          "execution_count": 107
        }
      ]
    },
    {
      "cell_type": "code",
      "metadata": {
        "id": "fmCTSl4aypuO",
        "outputId": "9b7b0779-bf5f-4ac1-8854-ab578a114fd0",
        "colab": {
          "base_uri": "https://localhost:8080/"
        }
      },
      "source": [
        "dt2.day, dt2.month, dt2.year"
      ],
      "execution_count": null,
      "outputs": [
        {
          "output_type": "execute_result",
          "data": {
            "text/plain": [
              "(2, 1, 2021)"
            ]
          },
          "metadata": {},
          "execution_count": 108
        }
      ]
    },
    {
      "cell_type": "code",
      "metadata": {
        "id": "yYRP5uWxyepU"
      },
      "source": [],
      "execution_count": null,
      "outputs": []
    },
    {
      "cell_type": "markdown",
      "metadata": {
        "id": "QU2hel_g2SnD"
      },
      "source": [
        "## Dictionary comprehension"
      ]
    },
    {
      "cell_type": "code",
      "metadata": {
        "id": "inZDUOY8yemz"
      },
      "source": [
        "first_day = datetime(2020, 1, 1)\n",
        "\n",
        "stages = {first_day + timedelta(days=i): stage for i, stage in enumerate(river_stage)}"
      ],
      "execution_count": null,
      "outputs": []
    },
    {
      "cell_type": "code",
      "metadata": {
        "id": "ASoB1JP3yeka",
        "outputId": "0909b656-2f0c-47fd-a5d8-0db6e8613b9e",
        "colab": {
          "base_uri": "https://localhost:8080/"
        }
      },
      "source": [
        "desired_day = datetime(2020, 7, 1)\n",
        "\n",
        "stages[desired_day]"
      ],
      "execution_count": null,
      "outputs": [
        {
          "output_type": "execute_result",
          "data": {
            "text/plain": [
              "107"
            ]
          },
          "metadata": {},
          "execution_count": 110
        }
      ]
    },
    {
      "cell_type": "code",
      "metadata": {
        "id": "zkOOYJ-byeh4",
        "outputId": "519d7240-a19b-482f-baaf-13844a8c7bc4",
        "colab": {
          "base_uri": "https://localhost:8080/",
          "height": 462
        }
      },
      "source": [
        "plt.figure(figsize=(15, 5))\n",
        "plt.plot(list(stages.keys()), list(stages.values()))"
      ],
      "execution_count": null,
      "outputs": [
        {
          "output_type": "execute_result",
          "data": {
            "text/plain": [
              "[<matplotlib.lines.Line2D at 0x7fba9580dd60>]"
            ]
          },
          "metadata": {},
          "execution_count": 111
        },
        {
          "output_type": "display_data",
          "data": {
            "text/plain": [
              "<Figure size 1500x500 with 1 Axes>"
            ],
            "image/png": "[encoded data removed]"
          },
          "metadata": {}
        }
      ]
    },
    {
      "cell_type": "markdown",
      "metadata": {
        "id": "viUoZ1Ei4H8H"
      },
      "source": [
        "## Example"
      ]
    },
    {
      "cell_type": "markdown",
      "metadata": {
        "id": "RjvAMQPD36_z"
      },
      "source": [
        "What if we want to store the river stages for 3 different stations? Are dictionaries a viable solution?\n"
      ]
    },
    {
      "cell_type": "code",
      "metadata": {
        "id": "3d7-Cucd27N1",
        "outputId": "652af233-6406-4deb-ebee-7a72c5075475",
        "colab": {
          "base_uri": "https://localhost:8080/"
        }
      },
      "source": [
        "# create 3 stations\n",
        "stations = [f'Station {i}' for i in range(1, 4)]\n",
        "stations"
      ],
      "execution_count": null,
      "outputs": [
        {
          "output_type": "execute_result",
          "data": {
            "text/plain": [
              "['Station 1', 'Station 2', 'Station 3']"
            ]
          },
          "metadata": {},
          "execution_count": 111
        }
      ]
    },
    {
      "cell_type": "code",
      "metadata": {
        "id": "z5sUjqJc3zen",
        "outputId": "bac9a807-a4b0-462e-963b-d23b7cd405b2",
        "colab": {
          "base_uri": "https://localhost:8080/"
        }
      },
      "source": [
        "random.seed(4)\n",
        "\n",
        "stage_data = {}\n",
        "first_day = datetime(2020, 1, 1)\n",
        "\n",
        "for station in stations:\n",
        "\n",
        "    print(f'Creating stage data for station {station}')\n",
        "\n",
        "    # create a random series\n",
        "    stages_list = [random.randint(50, 150)]\n",
        "    for _ in range(364):\n",
        "        stages_list.append(stages_list[-1] + random.randint(-2, 2))\n",
        "\n",
        "    # create the stages dictionary with the dates and assign it to a specific station\n",
        "    stage_data[station] = {first_day + timedelta(days=i): stage for i, stage in enumerate(stages_list)}\n",
        "\n"
      ],
      "execution_count": null,
      "outputs": [
        {
          "output_type": "stream",
          "name": "stdout",
          "text": [
            "Creating stage data for station Station 1\n",
            "Creating stage data for station Station 2\n",
            "Creating stage data for station Station 3\n"
          ]
        }
      ]
    },
    {
      "cell_type": "code",
      "metadata": {
        "id": "qakiwJQ93zcT",
        "outputId": "911d057b-0b0e-4aad-a2ab-4e912cb48a43",
        "colab": {
          "base_uri": "https://localhost:8080/",
          "height": 86
        }
      },
      "source": [
        "str(stage_data)"
      ],
      "execution_count": null,
      "outputs": [
        {
          "output_type": "execute_result",
          "data": {
            "application/vnd.google.colaboratory.intrinsic+json": {
              "type": "string"
            },
            "text/plain": [
              "\"{'Station 1': {datetime.datetime(2020, 1, 1, 0, 0): 80, datetime.datetime(2020, 1, 2, 0, 0): 80, datetime.datetime(2020, 1, 3, 0, 0): 78, datetime.datetime(2020, 1, 4, 0, 0): 79, datetime.datetime(2020, 1, 5, 0, 0): 80, datetime.datetime(2020, 1, 6, 0, 0): 79, datetime.datetime(2020, 1, 7, 0, 0): 77, datetime.datetime(2020, 1, 8, 0, 0): 75, datetime.datetime(2020, 1, 9, 0, 0): 73, datetime.datetime(2020, 1, 10, 0, 0): 74, datetime.datetime(2020, 1, 11, 0, 0): 76, datetime.datetime(2020, 1, 12, 0, 0): 76, datetime.datetime(2020, 1, 13, 0, 0): 74, datetime.datetime(2020, 1, 14, 0, 0): 73, datetime.datetime(2020, 1, 15, 0, 0): 75, datetime.datetime(2020, 1, 16, 0, 0): 77, datetime.datetime(2020, 1, 17, 0, 0): 77, datetime.datetime(2020, 1, 18, 0, 0): 77, datetime.datetime(2020, 1, 19, 0, 0): 76, datetime.datetime(2020, 1, 20, 0, 0): 74, datetime.datetime(2020, 1, 21, 0, 0): 74, datetime.datetime(2020, 1, 22, 0, 0): 73, datetime.datetime(2020, 1, 23, 0, 0): 71, datetime.datetime(2020, 1, 24, 0, 0): 71, datetime.datetime(2020, 1, 25, 0, 0): 71, datetime.datetime(2020, 1, 26, 0, 0): 70, datetime.datetime(2020, 1, 27, 0, 0): 69, datetime.datetime(2020, 1, 28, 0, 0): 69, datetime.datetime(2020, 1, 29, 0, 0): 69, datetime.datetime(2020, 1, 30, 0, 0): 69, datetime.datetime(2020, 1, 31, 0, 0): 67, datetime.datetime(2020, 2, 1, 0, 0): 69, datetime.datetime(2020, 2, 2, 0, 0): 69, datetime.datetime(2020, 2, 3, 0, 0): 70, datetime.datetime(2020, 2, 4, 0, 0): 72, datetime.datetime(2020, 2, 5, 0, 0): 71, datetime.datetime(2020, 2, 6, 0, 0): 70, datetime.datetime(2020, 2, 7, 0, 0): 69, datetime.datetime(2020, 2, 8, 0, 0): 70, datetime.datetime(2020, 2, 9, 0, 0): 70, datetime.datetime(2020, 2, 10, 0, 0): 68, datetime.datetime(2020, 2, 11, 0, 0): 70, datetime.datetime(2020, 2, 12, 0, 0): 70, datetime.datetime(2020, 2, 13, 0, 0): 68, datetime.datetime(2020, 2, 14, 0, 0): 68, datetime.datetime(2020, 2, 15, 0, 0): 70, datetime.datetime(2020, 2, 16, 0, 0): 70, datetime.datetime(2020, 2, 17, 0, 0): 72, datetime.datetime(2020, 2, 18, 0, 0): 71, datetime.datetime(2020, 2, 19, 0, 0): 72, datetime.datetime(2020, 2, 20, 0, 0): 73, datetime.datetime(2020, 2, 21, 0, 0): 75, datetime.datetime(2020, 2, 22, 0, 0): 75, datetime.datetime(2020, 2, 23, 0, 0): 76, datetime.datetime(2020, 2, 24, 0, 0): 77, datetime.datetime(2020, 2, 25, 0, 0): 76, datetime.datetime(2020, 2, 26, 0, 0): 75, datetime.datetime(2020, 2, 27, 0, 0): 75, datetime.datetime(2020, 2, 28, 0, 0): 75, datetime.datetime(2020, 2, 29, 0, 0): 73, datetime.datetime(2020, 3, 1, 0, 0): 71, datetime.datetime(2020, 3, 2, 0, 0): 69, datetime.datetime(2020, 3, 3, 0, 0): 70, datetime.datetime(2020, 3, 4, 0, 0): 70, datetime.datetime(2020, 3, 5, 0, 0): 72, datetime.datetime(2020, 3, 6, 0, 0): 74, datetime.datetime(2020, 3, 7, 0, 0): 75, datetime.datetime(2020, 3, 8, 0, 0): 75, datetime.datetime(2020, 3, 9, 0, 0): 74, datetime.datetime(2020, 3, 10, 0, 0): 73, datetime.datetime(2020, 3, 11, 0, 0): 71, datetime.datetime(2020, 3, 12, 0, 0): 72, datetime.datetime(2020, 3, 13, 0, 0): 71, datetime.datetime(2020, 3, 14, 0, 0): 72, datetime.datetime(2020, 3, 15, 0, 0): 72, datetime.datetime(2020, 3, 16, 0, 0): 71, datetime.datetime(2020, 3, 17, 0, 0): 71, datetime.datetime(2020, 3, 18, 0, 0): 72, datetime.datetime(2020, 3, 19, 0, 0): 74, datetime.datetime(2020, 3, 20, 0, 0): 74, datetime.datetime(2020, 3, 21, 0, 0): 76, datetime.datetime(2020, 3, 22, 0, 0): 75, datetime.datetime(2020, 3, 23, 0, 0): 75, datetime.datetime(2020, 3, 24, 0, 0): 73, datetime.datetime(2020, 3, 25, 0, 0): 71, datetime.datetime(2020, 3, 26, 0, 0): 70, datetime.datetime(2020, 3, 27, 0, 0): 70, datetime.datetime(2020, 3, 28, 0, 0): 72, datetime.datetime(2020, 3, 29, 0, 0): 74, datetime.datetime(2020, 3, 30, 0, 0): 73, datetime.datetime(2020, 3, 31, 0, 0): 71, datetime.datetime(2020, 4, 1, 0, 0): 71, datetime.datetime(2020, 4, 2, 0, 0): 70, datetime.datetime(2020, 4, 3, 0, 0): 70, datetime.datetime(2020, 4, 4, 0, 0): 71, datetime.datetime(2020, 4, 5, 0, 0): 69, datetime.datetime(2020, 4, 6, 0, 0): 67, datetime.datetime(2020, 4, 7, 0, 0): 67, datetime.datetime(2020, 4, 8, 0, 0): 65, datetime.datetime(2020, 4, 9, 0, 0): 65, datetime.datetime(2020, 4, 10, 0, 0): 65, datetime.datetime(2020, 4, 11, 0, 0): 63, datetime.datetime(2020, 4, 12, 0, 0): 63, datetime.datetime(2020, 4, 13, 0, 0): 63, datetime.datetime(2020, 4, 14, 0, 0): 63, datetime.datetime(2020, 4, 15, 0, 0): 62, datetime.datetime(2020, 4, 16, 0, 0): 63, datetime.datetime(2020, 4, 17, 0, 0): 65, datetime.datetime(2020, 4, 18, 0, 0): 63, datetime.datetime(2020, 4, 19, 0, 0): 63, datetime.datetime(2020, 4, 20, 0, 0): 65, datetime.datetime(2020, 4, 21, 0, 0): 64, datetime.datetime(2020, 4, 22, 0, 0): 65, datetime.datetime(2020, 4, 23, 0, 0): 65, datetime.datetime(2020, 4, 24, 0, 0): 64, datetime.datetime(2020, 4, 25, 0, 0): 64, datetime.datetime(2020, 4, 26, 0, 0): 65, datetime.datetime(2020, 4, 27, 0, 0): 67, datetime.datetime(2020, 4, 28, 0, 0): 66, datetime.datetime(2020, 4, 29, 0, 0): 66, datetime.datetime(2020, 4, 30, 0, 0): 68, datetime.datetime(2020, 5, 1, 0, 0): 66, datetime.datetime(2020, 5, 2, 0, 0): 66, datetime.datetime(2020, 5, 3, 0, 0): 64, datetime.datetime(2020, 5, 4, 0, 0): 65, datetime.datetime(2020, 5, 5, 0, 0): 64, datetime.datetime(2020, 5, 6, 0, 0): 64, datetime.datetime(2020, 5, 7, 0, 0): 64, datetime.datetime(2020, 5, 8, 0, 0): 64, datetime.datetime(2020, 5, 9, 0, 0): 66, datetime.datetime(2020, 5, 10, 0, 0): 64, datetime.datetime(2020, 5, 11, 0, 0): 65, datetime.datetime(2020, 5, 12, 0, 0): 64, datetime.datetime(2020, 5, 13, 0, 0): 65, datetime.datetime(2020, 5, 14, 0, 0): 64, datetime.datetime(2020, 5, 15, 0, 0): 62, datetime.datetime(2020, 5, 16, 0, 0): 60, datetime.datetime(2020, 5, 17, 0, 0): 58, datetime.datetime(2020, 5, 18, 0, 0): 56, datetime.datetime(2020, 5, 19, 0, 0): 55, datetime.datetime(2020, 5, 20, 0, 0): 57, datetime.datetime(2020, 5, 21, 0, 0): 56, datetime.datetime(2020, 5, 22, 0, 0): 58, datetime.datetime(2020, 5, 23, 0, 0): 56, datetime.datetime(2020, 5, 24, 0, 0): 58, datetime.datetime(2020, 5, 25, 0, 0): 59, datetime.datetime(2020, 5, 26, 0, 0): 61, datetime.datetime(2020, 5, 27, 0, 0): 60, datetime.datetime(2020, 5, 28, 0, 0): 60, datetime.datetime(2020, 5, 29, 0, 0): 58, datetime.datetime(2020, 5, 30, 0, 0): 56, datetime.datetime(2020, 5, 31, 0, 0): 58, datetime.datetime(2020, 6, 1, 0, 0): 58, datetime.datetime(2020, 6, 2, 0, 0): 59, datetime.datetime(2020, 6, 3, 0, 0): 58, datetime.datetime(2020, 6, 4, 0, 0): 59, datetime.datetime(2020, 6, 5, 0, 0): 58, datetime.datetime(2020, 6, 6, 0, 0): 57, datetime.datetime(2020, 6, 7, 0, 0): 58, datetime.datetime(2020, 6, 8, 0, 0): 59, datetime.datetime(2020, 6, 9, 0, 0): 60, datetime.datetime(2020, 6, 10, 0, 0): 58, datetime.datetime(2020, 6, 11, 0, 0): 57, datetime.datetime(2020, 6, 12, 0, 0): 58, datetime.datetime(2020, 6, 13, 0, 0): 59, datetime.datetime(2020, 6, 14, 0, 0): 58, datetime.datetime(2020, 6, 15, 0, 0): 59, datetime.datetime(2020, 6, 16, 0, 0): 58, datetime.datetime(2020, 6, 17, 0, 0): 59, datetime.datetime(2020, 6, 18, 0, 0): 58, datetime.datetime(2020, 6, 19, 0, 0): 56, datetime.datetime(2020, 6, 20, 0, 0): 54, datetime.datetime(2020, 6, 21, 0, 0): 54, datetime.datetime(2020, 6, 22, 0, 0): 54, datetime.datetime(2020, 6, 23, 0, 0): 53, datetime.datetime(2020, 6, 24, 0, 0): 55, datetime.datetime(2020, 6, 25, 0, 0): 54, datetime.datetime(2020, 6, 26, 0, 0): 53, datetime.datetime(2020, 6, 27, 0, 0): 54, datetime.datetime(2020, 6, 28, 0, 0): 54, datetime.datetime(2020, 6, 29, 0, 0): 53, datetime.datetime(2020, 6, 30, 0, 0): 53, datetime.datetime(2020, 7, 1, 0, 0): 51, datetime.datetime(2020, 7, 2, 0, 0): 51, datetime.datetime(2020, 7, 3, 0, 0): 53, datetime.datetime(2020, 7, 4, 0, 0): 51, datetime.datetime(2020, 7, 5, 0, 0): 53, datetime.datetime(2020, 7, 6, 0, 0): 54, datetime.datetime(2020, 7, 7, 0, 0): 52, datetime.datetime(2020, 7, 8, 0, 0): 53, datetime.datetime(2020, 7, 9, 0, 0): 54, datetime.datetime(2020, 7, 10, 0, 0): 52, datetime.datetime(2020, 7, 11, 0, 0): 53, datetime.datetime(2020, 7, 12, 0, 0): 52, datetime.datetime(2020, 7, 13, 0, 0): 54, datetime.datetime(2020, 7, 14, 0, 0): 53, datetime.datetime(2020, 7, 15, 0, 0): 53, datetime.datetime(2020, 7, 16, 0, 0): 53, datetime.datetime(2020, 7, 17, 0, 0): 54, datetime.datetime(2020, 7, 18, 0, 0): 54, datetime.datetime(2020, 7, 19, 0, 0): 55, datetime.datetime(2020, 7, 20, 0, 0): 57, datetime.datetime(2020, 7, 21, 0, 0): 56, datetime.datetime(2020, 7, 22, 0, 0): 56, datetime.datetime(2020, 7, 23, 0, 0): 56, datetime.datetime(2020, 7, 24, 0, 0): 57, datetime.datetime(2020, 7, 25, 0, 0): 58, datetime.datetime(2020, 7, 26, 0, 0): 56, datetime.datetime(2020, 7, 27, 0, 0): 56, datetime.datetime(2020, 7, 28, 0, 0): 55, datetime.datetime(2020, 7, 29, 0, 0): 53, datetime.datetime(2020, 7, 30, 0, 0): 54, datetime.datetime(2020, 7, 31, 0, 0): 56, datetime.datetime(2020, 8, 1, 0, 0): 55, datetime.datetime(2020, 8, 2, 0, 0): 55, datetime.datetime(2020, 8, 3, 0, 0): 53, datetime.datetime(2020, 8, 4, 0, 0): 52, datetime.datetime(2020, 8, 5, 0, 0): 53, datetime.datetime(2020, 8, 6, 0, 0): 55, datetime.datetime(2020, 8, 7, 0, 0): 56, datetime.datetime(2020, 8, 8, 0, 0): 57, datetime.datetime(2020, 8, 9, 0, 0): 58, datetime.datetime(2020, 8, 10, 0, 0): 57, datetime.datetime(2020, 8, 11, 0, 0): 55, datetime.datetime(2020, 8, 12, 0, 0): 54, datetime.datetime(2020, 8, 13, 0, 0): 53, datetime.datetime(2020, 8, 14, 0, 0): 51, datetime.datetime(2020, 8, 15, 0, 0): 53, datetime.datetime(2020, 8, 16, 0, 0): 53, datetime.datetime(2020, 8, 17, 0, 0): 51, datetime.datetime(2020, 8, 18, 0, 0): 52, datetime.datetime(2020, 8, 19, 0, 0): 53, datetime.datetime(2020, 8, 20, 0, 0): 52, datetime.datetime(2020, 8, 21, 0, 0): 54, datetime.datetime(2020, 8, 22, 0, 0): 52, datetime.datetime(2020, 8, 23, 0, 0): 51, datetime.datetime(2020, 8, 24, 0, 0): 50, datetime.datetime(2020, 8, 25, 0, 0): 52, datetime.datetime(2020, 8, 26, 0, 0): 52, datetime.datetime(2020, 8, 27, 0, 0): 54, datetime.datetime(2020, 8, 28, 0, 0): 55, datetime.datetime(2020, 8, 29, 0, 0): 57, datetime.datetime(2020, 8, 30, 0, 0): 58, datetime.datetime(2020, 8, 31, 0, 0): 56, datetime.datetime(2020, 9, 1, 0, 0): 54, datetime.datetime(2020, 9, 2, 0, 0): 52, datetime.datetime(2020, 9, 3, 0, 0): 54, datetime.datetime(2020, 9, 4, 0, 0): 52, datetime.datetime(2020, 9, 5, 0, 0): 53, datetime.datetime(2020, 9, 6, 0, 0): 55, datetime.datetime(2020, 9, 7, 0, 0): 55, datetime.datetime(2020, 9, 8, 0, 0): 57, datetime.datetime(2020, 9, 9, 0, 0): 56, datetime.datetime(2020, 9, 10, 0, 0): 54, datetime.datetime(2020, 9, 11, 0, 0): 54, datetime.datetime(2020, 9, 12, 0, 0): 52, datetime.datetime(2020, 9, 13, 0, 0): 54, datetime.datetime(2020, 9, 14, 0, 0): 52, datetime.datetime(2020, 9, 15, 0, 0): 52, datetime.datetime(2020, 9, 16, 0, 0): 52, datetime.datetime(2020, 9, 17, 0, 0): 50, datetime.datetime(2020, 9, 18, 0, 0): 48, datetime.datetime(2020, 9, 19, 0, 0): 50, datetime.datetime(2020, 9, 20, 0, 0): 51, datetime.datetime(2020, 9, 21, 0, 0): 52, datetime.datetime(2020, 9, 22, 0, 0): 51, datetime.datetime(2020, 9, 23, 0, 0): 51, datetime.datetime(2020, 9, 24, 0, 0): 52, datetime.datetime(2020, 9, 25, 0, 0): 51, datetime.datetime(2020, 9, 26, 0, 0): 52, datetime.datetime(2020, 9, 27, 0, 0): 53, datetime.datetime(2020, 9, 28, 0, 0): 51, datetime.datetime(2020, 9, 29, 0, 0): 49, datetime.datetime(2020, 9, 30, 0, 0): 47, datetime.datetime(2020, 10, 1, 0, 0): 49, datetime.datetime(2020, 10, 2, 0, 0): 49, datetime.datetime(2020, 10, 3, 0, 0): 51, datetime.datetime(2020, 10, 4, 0, 0): 52, datetime.datetime(2020, 10, 5, 0, 0): 53, datetime.datetime(2020, 10, 6, 0, 0): 54, datetime.datetime(2020, 10, 7, 0, 0): 52, datetime.datetime(2020, 10, 8, 0, 0): 51, datetime.datetime(2020, 10, 9, 0, 0): 51, datetime.datetime(2020, 10, 10, 0, 0): 52, datetime.datetime(2020, 10, 11, 0, 0): 53, datetime.datetime(2020, 10, 12, 0, 0): 51, datetime.datetime(2020, 10, 13, 0, 0): 53, datetime.datetime(2020, 10, 14, 0, 0): 52, datetime.datetime(2020, 10, 15, 0, 0): 52, datetime.datetime(2020, 10, 16, 0, 0): 51, datetime.datetime(2020, 10, 17, 0, 0): 50, datetime.datetime(2020, 10, 18, 0, 0): 49, datetime.datetime(2020, 10, 19, 0, 0): 49, datetime.datetime(2020, 10, 20, 0, 0): 50, datetime.datetime(2020, 10, 21, 0, 0): 50, datetime.datetime(2020, 10, 22, 0, 0): 50, datetime.datetime(2020, 10, 23, 0, 0): 52, datetime.datetime(2020, 10, 24, 0, 0): 50, datetime.datetime(2020, 10, 25, 0, 0): 49, datetime.datetime(2020, 10, 26, 0, 0): 47, datetime.datetime(2020, 10, 27, 0, 0): 47, datetime.datetime(2020, 10, 28, 0, 0): 45, datetime.datetime(2020, 10, 29, 0, 0): 47, datetime.datetime(2020, 10, 30, 0, 0): 45, datetime.datetime(2020, 10, 31, 0, 0): 46, datetime.datetime(2020, 11, 1, 0, 0): 48, datetime.datetime(2020, 11, 2, 0, 0): 49, datetime.datetime(2020, 11, 3, 0, 0): 51, datetime.datetime(2020, 11, 4, 0, 0): 49, datetime.datetime(2020, 11, 5, 0, 0): 51, datetime.datetime(2020, 11, 6, 0, 0): 50, datetime.datetime(2020, 11, 7, 0, 0): 51, datetime.datetime(2020, 11, 8, 0, 0): 51, datetime.datetime(2020, 11, 9, 0, 0): 51, datetime.datetime(2020, 11, 10, 0, 0): 50, datetime.datetime(2020, 11, 11, 0, 0): 49, datetime.datetime(2020, 11, 12, 0, 0): 47, datetime.datetime(2020, 11, 13, 0, 0): 45, datetime.datetime(2020, 11, 14, 0, 0): 47, datetime.datetime(2020, 11, 15, 0, 0): 47, datetime.datetime(2020, 11, 16, 0, 0): 49, datetime.datetime(2020, 11, 17, 0, 0): 50, datetime.datetime(2020, 11, 18, 0, 0): 52, datetime.datetime(2020, 11, 19, 0, 0): 52, datetime.datetime(2020, 11, 20, 0, 0): 54, datetime.datetime(2020, 11, 21, 0, 0): 55, datetime.datetime(2020, 11, 22, 0, 0): 57, datetime.datetime(2020, 11, 23, 0, 0): 59, datetime.datetime(2020, 11, 24, 0, 0): 60, datetime.datetime(2020, 11, 25, 0, 0): 61, datetime.datetime(2020, 11, 26, 0, 0): 60, datetime.datetime(2020, 11, 27, 0, 0): 60, datetime.datetime(2020, 11, 28, 0, 0): 62, datetime.datetime(2020, 11, 29, 0, 0): 62, datetime.datetime(2020, 11, 30, 0, 0): 62, datetime.datetime(2020, 12, 1, 0, 0): 61, datetime.datetime(2020, 12, 2, 0, 0): 62, datetime.datetime(2020, 12, 3, 0, 0): 60, datetime.datetime(2020, 12, 4, 0, 0): 62, datetime.datetime(2020, 12, 5, 0, 0): 61, datetime.datetime(2020, 12, 6, 0, 0): 63, datetime.datetime(2020, 12, 7, 0, 0): 62, datetime.datetime(2020, 12, 8, 0, 0): 62, datetime.datetime(2020, 12, 9, 0, 0): 62, datetime.datetime(2020, 12, 10, 0, 0): 61, datetime.datetime(2020, 12, 11, 0, 0): 63, datetime.datetime(2020, 12, 12, 0, 0): 63, datetime.datetime(2020, 12, 13, 0, 0): 65, datetime.datetime(2020, 12, 14, 0, 0): 63, datetime.datetime(2020, 12, 15, 0, 0): 61, datetime.datetime(2020, 12, 16, 0, 0): 62, datetime.datetime(2020, 12, 17, 0, 0): 61, datetime.datetime(2020, 12, 18, 0, 0): 61, datetime.datetime(2020, 12, 19, 0, 0): 61, datetime.datetime(2020, 12, 20, 0, 0): 61, datetime.datetime(2020, 12, 21, 0, 0): 60, datetime.datetime(2020, 12, 22, 0, 0): 60, datetime.datetime(2020, 12, 23, 0, 0): 58, datetime.datetime(2020, 12, 24, 0, 0): 60, datetime.datetime(2020, 12, 25, 0, 0): 58, datetime.datetime(2020, 12, 26, 0, 0): 60, datetime.datetime(2020, 12, 27, 0, 0): 58, datetime.datetime(2020, 12, 28, 0, 0): 58, datetime.datetime(2020, 12, 29, 0, 0): 56, datetime.datetime(2020, 12, 30, 0, 0): 55}, 'Station 2': {datetime.datetime(2020, 1, 1, 0, 0): 73, datetime.datetime(2020, 1, 2, 0, 0): 75, datetime.datetime(2020, 1, 3, 0, 0): 76, datetime.datetime(2020, 1, 4, 0, 0): 78, datetime.datetime(2020, 1, 5, 0, 0): 76, datetime.datetime(2020, 1, 6, 0, 0): 74, datetime.datetime(2020, 1, 7, 0, 0): 73, datetime.datetime(2020, 1, 8, 0, 0): 74, datetime.datetime(2020, 1, 9, 0, 0): 73, datetime.datetime(2020, 1, 10, 0, 0): 75, datetime.datetime(2020, 1, 11, 0, 0): 75, datetime.datetime(2020, 1, 12, 0, 0): 76, datetime.datetime(2020, 1, 13, 0, 0): 78, datetime.datetime(2020, 1, 14, 0, 0): 77, datetime.datetime(2020, 1, 15, 0, 0): 78, datetime.datetime(2020, 1, 16, 0, 0): 77, datetime.datetime(2020, 1, 17, 0, 0): 77, datetime.datetime(2020, 1, 18, 0, 0): 77, datetime.datetime(2020, 1, 19, 0, 0): 76, datetime.datetime(2020, 1, 20, 0, 0): 76, datetime.datetime(2020, 1, 21, 0, 0): 78, datetime.datetime(2020, 1, 22, 0, 0): 80, datetime.datetime(2020, 1, 23, 0, 0): 81, datetime.datetime(2020, 1, 24, 0, 0): 82, datetime.datetime(2020, 1, 25, 0, 0): 84, datetime.datetime(2020, 1, 26, 0, 0): 85, datetime.datetime(2020, 1, 27, 0, 0): 85, datetime.datetime(2020, 1, 28, 0, 0): 85, datetime.datetime(2020, 1, 29, 0, 0): 86, datetime.datetime(2020, 1, 30, 0, 0): 87, datetime.datetime(2020, 1, 31, 0, 0): 89, datetime.datetime(2020, 2, 1, 0, 0): 87, datetime.datetime(2020, 2, 2, 0, 0): 87, datetime.datetime(2020, 2, 3, 0, 0): 86, datetime.datetime(2020, 2, 4, 0, 0): 88, datetime.datetime(2020, 2, 5, 0, 0): 89, datetime.datetime(2020, 2, 6, 0, 0): 91, datetime.datetime(2020, 2, 7, 0, 0): 93, datetime.datetime(2020, 2, 8, 0, 0): 93, datetime.datetime(2020, 2, 9, 0, 0): 94, datetime.datetime(2020, 2, 10, 0, 0): 95, datetime.datetime(2020, 2, 11, 0, 0): 97, datetime.datetime(2020, 2, 12, 0, 0): 95, datetime.datetime(2020, 2, 13, 0, 0): 94, datetime.datetime(2020, 2, 14, 0, 0): 96, datetime.datetime(2020, 2, 15, 0, 0): 94, datetime.datetime(2020, 2, 16, 0, 0): 95, datetime.datetime(2020, 2, 17, 0, 0): 95, datetime.datetime(2020, 2, 18, 0, 0): 97, datetime.datetime(2020, 2, 19, 0, 0): 97, datetime.datetime(2020, 2, 20, 0, 0): 95, datetime.datetime(2020, 2, 21, 0, 0): 95, datetime.datetime(2020, 2, 22, 0, 0): 96, datetime.datetime(2020, 2, 23, 0, 0): 95, datetime.datetime(2020, 2, 24, 0, 0): 96, datetime.datetime(2020, 2, 25, 0, 0): 98, datetime.datetime(2020, 2, 26, 0, 0): 96, datetime.datetime(2020, 2, 27, 0, 0): 95, datetime.datetime(2020, 2, 28, 0, 0): 94, datetime.datetime(2020, 2, 29, 0, 0): 92, datetime.datetime(2020, 3, 1, 0, 0): 92, datetime.datetime(2020, 3, 2, 0, 0): 91, datetime.datetime(2020, 3, 3, 0, 0): 89, datetime.datetime(2020, 3, 4, 0, 0): 88, datetime.datetime(2020, 3, 5, 0, 0): 89, datetime.datetime(2020, 3, 6, 0, 0): 91, datetime.datetime(2020, 3, 7, 0, 0): 93, datetime.datetime(2020, 3, 8, 0, 0): 95, datetime.datetime(2020, 3, 9, 0, 0): 97, datetime.datetime(2020, 3, 10, 0, 0): 97, datetime.datetime(2020, 3, 11, 0, 0): 95, datetime.datetime(2020, 3, 12, 0, 0): 97, datetime.datetime(2020, 3, 13, 0, 0): 96, datetime.datetime(2020, 3, 14, 0, 0): 95, datetime.datetime(2020, 3, 15, 0, 0): 93, datetime.datetime(2020, 3, 16, 0, 0): 92, datetime.datetime(2020, 3, 17, 0, 0): 90, datetime.datetime(2020, 3, 18, 0, 0): 90, datetime.datetime(2020, 3, 19, 0, 0): 88, datetime.datetime(2020, 3, 20, 0, 0): 86, datetime.datetime(2020, 3, 21, 0, 0): 86, datetime.datetime(2020, 3, 22, 0, 0): 84, datetime.datetime(2020, 3, 23, 0, 0): 84, datetime.datetime(2020, 3, 24, 0, 0): 86, datetime.datetime(2020, 3, 25, 0, 0): 85, datetime.datetime(2020, 3, 26, 0, 0): 84, datetime.datetime(2020, 3, 27, 0, 0): 85, datetime.datetime(2020, 3, 28, 0, 0): 84, datetime.datetime(2020, 3, 29, 0, 0): 82, datetime.datetime(2020, 3, 30, 0, 0): 84, datetime.datetime(2020, 3, 31, 0, 0): 84, datetime.datetime(2020, 4, 1, 0, 0): 82, datetime.datetime(2020, 4, 2, 0, 0): 84, datetime.datetime(2020, 4, 3, 0, 0): 83, datetime.datetime(2020, 4, 4, 0, 0): 85, datetime.datetime(2020, 4, 5, 0, 0): 86, datetime.datetime(2020, 4, 6, 0, 0): 85, datetime.datetime(2020, 4, 7, 0, 0): 84, datetime.datetime(2020, 4, 8, 0, 0): 84, datetime.datetime(2020, 4, 9, 0, 0): 85, datetime.datetime(2020, 4, 10, 0, 0): 87, datetime.datetime(2020, 4, 11, 0, 0): 85, datetime.datetime(2020, 4, 12, 0, 0): 86, datetime.datetime(2020, 4, 13, 0, 0): 85, datetime.datetime(2020, 4, 14, 0, 0): 84, datetime.datetime(2020, 4, 15, 0, 0): 84, datetime.datetime(2020, 4, 16, 0, 0): 86, datetime.datetime(2020, 4, 17, 0, 0): 87, datetime.datetime(2020, 4, 18, 0, 0): 89, datetime.datetime(2020, 4, 19, 0, 0): 89, datetime.datetime(2020, 4, 20, 0, 0): 90, datetime.datetime(2020, 4, 21, 0, 0): 90, datetime.datetime(2020, 4, 22, 0, 0): 89, datetime.datetime(2020, 4, 23, 0, 0): 90, datetime.datetime(2020, 4, 24, 0, 0): 88, datetime.datetime(2020, 4, 25, 0, 0): 89, datetime.datetime(2020, 4, 26, 0, 0): 87, datetime.datetime(2020, 4, 27, 0, 0): 87, datetime.datetime(2020, 4, 28, 0, 0): 85, datetime.datetime(2020, 4, 29, 0, 0): 85, datetime.datetime(2020, 4, 30, 0, 0): 84, datetime.datetime(2020, 5, 1, 0, 0): 82, datetime.datetime(2020, 5, 2, 0, 0): 81, datetime.datetime(2020, 5, 3, 0, 0): 79, datetime.datetime(2020, 5, 4, 0, 0): 81, datetime.datetime(2020, 5, 5, 0, 0): 79, datetime.datetime(2020, 5, 6, 0, 0): 78, datetime.datetime(2020, 5, 7, 0, 0): 77, datetime.datetime(2020, 5, 8, 0, 0): 79, datetime.datetime(2020, 5, 9, 0, 0): 77, datetime.datetime(2020, 5, 10, 0, 0): 78, datetime.datetime(2020, 5, 11, 0, 0): 80, datetime.datetime(2020, 5, 12, 0, 0): 79, datetime.datetime(2020, 5, 13, 0, 0): 80, datetime.datetime(2020, 5, 14, 0, 0): 81, datetime.datetime(2020, 5, 15, 0, 0): 81, datetime.datetime(2020, 5, 16, 0, 0): 80, datetime.datetime(2020, 5, 17, 0, 0): 82, datetime.datetime(2020, 5, 18, 0, 0): 84, datetime.datetime(2020, 5, 19, 0, 0): 83, datetime.datetime(2020, 5, 20, 0, 0): 81, datetime.datetime(2020, 5, 21, 0, 0): 82, datetime.datetime(2020, 5, 22, 0, 0): 84, datetime.datetime(2020, 5, 23, 0, 0): 84, datetime.datetime(2020, 5, 24, 0, 0): 84, datetime.datetime(2020, 5, 25, 0, 0): 85, datetime.datetime(2020, 5, 26, 0, 0): 87, datetime.datetime(2020, 5, 27, 0, 0): 85, datetime.datetime(2020, 5, 28, 0, 0): 84, datetime.datetime(2020, 5, 29, 0, 0): 84, datetime.datetime(2020, 5, 30, 0, 0): 86, datetime.datetime(2020, 5, 31, 0, 0): 88, datetime.datetime(2020, 6, 1, 0, 0): 88, datetime.datetime(2020, 6, 2, 0, 0): 89, datetime.datetime(2020, 6, 3, 0, 0): 89, datetime.datetime(2020, 6, 4, 0, 0): 87, datetime.datetime(2020, 6, 5, 0, 0): 86, datetime.datetime(2020, 6, 6, 0, 0): 86, datetime.datetime(2020, 6, 7, 0, 0): 84, datetime.datetime(2020, 6, 8, 0, 0): 82, datetime.datetime(2020, 6, 9, 0, 0): 84, datetime.datetime(2020, 6, 10, 0, 0): 84, datetime.datetime(2020, 6, 11, 0, 0): 86, datetime.datetime(2020, 6, 12, 0, 0): 87, datetime.datetime(2020, 6, 13, 0, 0): 87, datetime.datetime(2020, 6, 14, 0, 0): 85, datetime.datetime(2020, 6, 15, 0, 0): 84, datetime.datetime(2020, 6, 16, 0, 0): 82, datetime.datetime(2020, 6, 17, 0, 0): 83, datetime.datetime(2020, 6, 18, 0, 0): 85, datetime.datetime(2020, 6, 19, 0, 0): 87, datetime.datetime(2020, 6, 20, 0, 0): 89, datetime.datetime(2020, 6, 21, 0, 0): 88, datetime.datetime(2020, 6, 22, 0, 0): 86, datetime.datetime(2020, 6, 23, 0, 0): 85, datetime.datetime(2020, 6, 24, 0, 0): 83, datetime.datetime(2020, 6, 25, 0, 0): 83, datetime.datetime(2020, 6, 26, 0, 0): 85, datetime.datetime(2020, 6, 27, 0, 0): 84, datetime.datetime(2020, 6, 28, 0, 0): 84, datetime.datetime(2020, 6, 29, 0, 0): 82, datetime.datetime(2020, 6, 30, 0, 0): 84, datetime.datetime(2020, 7, 1, 0, 0): 86, datetime.datetime(2020, 7, 2, 0, 0): 84, datetime.datetime(2020, 7, 3, 0, 0): 82, datetime.datetime(2020, 7, 4, 0, 0): 81, datetime.datetime(2020, 7, 5, 0, 0): 83, datetime.datetime(2020, 7, 6, 0, 0): 83, datetime.datetime(2020, 7, 7, 0, 0): 85, datetime.datetime(2020, 7, 8, 0, 0): 83, datetime.datetime(2020, 7, 9, 0, 0): 81, datetime.datetime(2020, 7, 10, 0, 0): 79, datetime.datetime(2020, 7, 11, 0, 0): 80, datetime.datetime(2020, 7, 12, 0, 0): 79, datetime.datetime(2020, 7, 13, 0, 0): 78, datetime.datetime(2020, 7, 14, 0, 0): 78, datetime.datetime(2020, 7, 15, 0, 0): 77, datetime.datetime(2020, 7, 16, 0, 0): 77, datetime.datetime(2020, 7, 17, 0, 0): 77, datetime.datetime(2020, 7, 18, 0, 0): 78, datetime.datetime(2020, 7, 19, 0, 0): 80, datetime.datetime(2020, 7, 20, 0, 0): 81, datetime.datetime(2020, 7, 21, 0, 0): 79, datetime.datetime(2020, 7, 22, 0, 0): 78, datetime.datetime(2020, 7, 23, 0, 0): 79, datetime.datetime(2020, 7, 24, 0, 0): 80, datetime.datetime(2020, 7, 25, 0, 0): 78, datetime.datetime(2020, 7, 26, 0, 0): 80, datetime.datetime(2020, 7, 27, 0, 0): 82, datetime.datetime(2020, 7, 28, 0, 0): 82, datetime.datetime(2020, 7, 29, 0, 0): 84, datetime.datetime(2020, 7, 30, 0, 0): 84, datetime.datetime(2020, 7, 31, 0, 0): 83, datetime.datetime(2020, 8, 1, 0, 0): 84, datetime.datetime(2020, 8, 2, 0, 0): 84, datetime.datetime(2020, 8, 3, 0, 0): 83, datetime.datetime(2020, 8, 4, 0, 0): 82, datetime.datetime(2020, 8, 5, 0, 0): 80, datetime.datetime(2020, 8, 6, 0, 0): 81, datetime.datetime(2020, 8, 7, 0, 0): 82, datetime.datetime(2020, 8, 8, 0, 0): 82, datetime.datetime(2020, 8, 9, 0, 0): 82, datetime.datetime(2020, 8, 10, 0, 0): 83, datetime.datetime(2020, 8, 11, 0, 0): 84, datetime.datetime(2020, 8, 12, 0, 0): 84, datetime.datetime(2020, 8, 13, 0, 0): 86, datetime.datetime(2020, 8, 14, 0, 0): 85, datetime.datetime(2020, 8, 15, 0, 0): 85, datetime.datetime(2020, 8, 16, 0, 0): 85, datetime.datetime(2020, 8, 17, 0, 0): 87, datetime.datetime(2020, 8, 18, 0, 0): 85, datetime.datetime(2020, 8, 19, 0, 0): 83, datetime.datetime(2020, 8, 20, 0, 0): 84, datetime.datetime(2020, 8, 21, 0, 0): 84, datetime.datetime(2020, 8, 22, 0, 0): 86, datetime.datetime(2020, 8, 23, 0, 0): 86, datetime.datetime(2020, 8, 24, 0, 0): 85, datetime.datetime(2020, 8, 25, 0, 0): 87, datetime.datetime(2020, 8, 26, 0, 0): 87, datetime.datetime(2020, 8, 27, 0, 0): 85, datetime.datetime(2020, 8, 28, 0, 0): 84, datetime.datetime(2020, 8, 29, 0, 0): 86, datetime.datetime(2020, 8, 30, 0, 0): 84, datetime.datetime(2020, 8, 31, 0, 0): 83, datetime.datetime(2020, 9, 1, 0, 0): 83, datetime.datetime(2020, 9, 2, 0, 0): 82, datetime.datetime(2020, 9, 3, 0, 0): 83, datetime.datetime(2020, 9, 4, 0, 0): 81, datetime.datetime(2020, 9, 5, 0, 0): 81, datetime.datetime(2020, 9, 6, 0, 0): 79, datetime.datetime(2020, 9, 7, 0, 0): 80, datetime.datetime(2020, 9, 8, 0, 0): 82, datetime.datetime(2020, 9, 9, 0, 0): 81, datetime.datetime(2020, 9, 10, 0, 0): 80, datetime.datetime(2020, 9, 11, 0, 0): 78, datetime.datetime(2020, 9, 12, 0, 0): 77, datetime.datetime(2020, 9, 13, 0, 0): 79, datetime.datetime(2020, 9, 14, 0, 0): 77, datetime.datetime(2020, 9, 15, 0, 0): 75, datetime.datetime(2020, 9, 16, 0, 0): 75, datetime.datetime(2020, 9, 17, 0, 0): 75, datetime.datetime(2020, 9, 18, 0, 0): 77, datetime.datetime(2020, 9, 19, 0, 0): 79, datetime.datetime(2020, 9, 20, 0, 0): 78, datetime.datetime(2020, 9, 21, 0, 0): 76, datetime.datetime(2020, 9, 22, 0, 0): 75, datetime.datetime(2020, 9, 23, 0, 0): 73, datetime.datetime(2020, 9, 24, 0, 0): 72, datetime.datetime(2020, 9, 25, 0, 0): 71, datetime.datetime(2020, 9, 26, 0, 0): 71, datetime.datetime(2020, 9, 27, 0, 0): 69, datetime.datetime(2020, 9, 28, 0, 0): 71, datetime.datetime(2020, 9, 29, 0, 0): 71, datetime.datetime(2020, 9, 30, 0, 0): 71, datetime.datetime(2020, 10, 1, 0, 0): 73, datetime.datetime(2020, 10, 2, 0, 0): 73, datetime.datetime(2020, 10, 3, 0, 0): 72, datetime.datetime(2020, 10, 4, 0, 0): 71, datetime.datetime(2020, 10, 5, 0, 0): 70, datetime.datetime(2020, 10, 6, 0, 0): 68, datetime.datetime(2020, 10, 7, 0, 0): 66, datetime.datetime(2020, 10, 8, 0, 0): 65, datetime.datetime(2020, 10, 9, 0, 0): 63, datetime.datetime(2020, 10, 10, 0, 0): 63, datetime.datetime(2020, 10, 11, 0, 0): 64, datetime.datetime(2020, 10, 12, 0, 0): 62, datetime.datetime(2020, 10, 13, 0, 0): 61, datetime.datetime(2020, 10, 14, 0, 0): 60, datetime.datetime(2020, 10, 15, 0, 0): 61, datetime.datetime(2020, 10, 16, 0, 0): 62, datetime.datetime(2020, 10, 17, 0, 0): 64, datetime.datetime(2020, 10, 18, 0, 0): 66, datetime.datetime(2020, 10, 19, 0, 0): 67, datetime.datetime(2020, 10, 20, 0, 0): 69, datetime.datetime(2020, 10, 21, 0, 0): 69, datetime.datetime(2020, 10, 22, 0, 0): 69, datetime.datetime(2020, 10, 23, 0, 0): 70, datetime.datetime(2020, 10, 24, 0, 0): 71, datetime.datetime(2020, 10, 25, 0, 0): 69, datetime.datetime(2020, 10, 26, 0, 0): 67, datetime.datetime(2020, 10, 27, 0, 0): 66, datetime.datetime(2020, 10, 28, 0, 0): 65, datetime.datetime(2020, 10, 29, 0, 0): 65, datetime.datetime(2020, 10, 30, 0, 0): 64, datetime.datetime(2020, 10, 31, 0, 0): 64, datetime.datetime(2020, 11, 1, 0, 0): 63, datetime.datetime(2020, 11, 2, 0, 0): 63, datetime.datetime(2020, 11, 3, 0, 0): 65, datetime.datetime(2020, 11, 4, 0, 0): 64, datetime.datetime(2020, 11, 5, 0, 0): 66, datetime.datetime(2020, 11, 6, 0, 0): 66, datetime.datetime(2020, 11, 7, 0, 0): 67, datetime.datetime(2020, 11, 8, 0, 0): 67, datetime.datetime(2020, 11, 9, 0, 0): 69, datetime.datetime(2020, 11, 10, 0, 0): 67, datetime.datetime(2020, 11, 11, 0, 0): 66, datetime.datetime(2020, 11, 12, 0, 0): 65, datetime.datetime(2020, 11, 13, 0, 0): 65, datetime.datetime(2020, 11, 14, 0, 0): 64, datetime.datetime(2020, 11, 15, 0, 0): 66, datetime.datetime(2020, 11, 16, 0, 0): 65, datetime.datetime(2020, 11, 17, 0, 0): 63, datetime.datetime(2020, 11, 18, 0, 0): 61, datetime.datetime(2020, 11, 19, 0, 0): 59, datetime.datetime(2020, 11, 20, 0, 0): 58, datetime.datetime(2020, 11, 21, 0, 0): 58, datetime.datetime(2020, 11, 22, 0, 0): 58, datetime.datetime(2020, 11, 23, 0, 0): 60, datetime.datetime(2020, 11, 24, 0, 0): 61, datetime.datetime(2020, 11, 25, 0, 0): 59, datetime.datetime(2020, 11, 26, 0, 0): 59, datetime.datetime(2020, 11, 27, 0, 0): 60, datetime.datetime(2020, 11, 28, 0, 0): 59, datetime.datetime(2020, 11, 29, 0, 0): 58, datetime.datetime(2020, 11, 30, 0, 0): 59, datetime.datetime(2020, 12, 1, 0, 0): 61, datetime.datetime(2020, 12, 2, 0, 0): 62, datetime.datetime(2020, 12, 3, 0, 0): 62, datetime.datetime(2020, 12, 4, 0, 0): 62, datetime.datetime(2020, 12, 5, 0, 0): 60, datetime.datetime(2020, 12, 6, 0, 0): 61, datetime.datetime(2020, 12, 7, 0, 0): 60, datetime.datetime(2020, 12, 8, 0, 0): 61, datetime.datetime(2020, 12, 9, 0, 0): 59, datetime.datetime(2020, 12, 10, 0, 0): 60, datetime.datetime(2020, 12, 11, 0, 0): 59, datetime.datetime(2020, 12, 12, 0, 0): 57, datetime.datetime(2020, 12, 13, 0, 0): 57, datetime.datetime(2020, 12, 14, 0, 0): 57, datetime.datetime(2020, 12, 15, 0, 0): 59, datetime.datetime(2020, 12, 16, 0, 0): 61, datetime.datetime(2020, 12, 17, 0, 0): 59, datetime.datetime(2020, 12, 18, 0, 0): 57, datetime.datetime(2020, 12, 19, 0, 0): 58, datetime.datetime(2020, 12, 20, 0, 0): 57, datetime.datetime(2020, 12, 21, 0, 0): 59, datetime.datetime(2020, 12, 22, 0, 0): 57, datetime.datetime(2020, 12, 23, 0, 0): 56, datetime.datetime(2020, 12, 24, 0, 0): 58, datetime.datetime(2020, 12, 25, 0, 0): 57, datetime.datetime(2020, 12, 26, 0, 0): 59, datetime.datetime(2020, 12, 27, 0, 0): 59, datetime.datetime(2020, 12, 28, 0, 0): 61, datetime.datetime(2020, 12, 29, 0, 0): 59, datetime.datetime(2020, 12, 30, 0, 0): 57}, 'Station 3': {datetime.datetime(2020, 1, 1, 0, 0): 98, datetime.datetime(2020, 1, 2, 0, 0): 99, datetime.datetime(2020, 1, 3, 0, 0): 98, datetime.datetime(2020, 1, 4, 0, 0): 100, datetime.datetime(2020, 1, 5, 0, 0): 99, datetime.datetime(2020, 1, 6, 0, 0): 101, datetime.datetime(2020, 1, 7, 0, 0): 99, datetime.datetime(2020, 1, 8, 0, 0): 98, datetime.datetime(2020, 1, 9, 0, 0): 97, datetime.datetime(2020, 1, 10, 0, 0): 99, datetime.datetime(2020, 1, 11, 0, 0): 99, datetime.datetime(2020, 1, 12, 0, 0): 98, datetime.datetime(2020, 1, 13, 0, 0): 99, datetime.datetime(2020, 1, 14, 0, 0): 99, datetime.datetime(2020, 1, 15, 0, 0): 101, datetime.datetime(2020, 1, 16, 0, 0): 101, datetime.datetime(2020, 1, 17, 0, 0): 100, datetime.datetime(2020, 1, 18, 0, 0): 100, datetime.datetime(2020, 1, 19, 0, 0): 102, datetime.datetime(2020, 1, 20, 0, 0): 104, datetime.datetime(2020, 1, 21, 0, 0): 104, datetime.datetime(2020, 1, 22, 0, 0): 104, datetime.datetime(2020, 1, 23, 0, 0): 106, datetime.datetime(2020, 1, 24, 0, 0): 106, datetime.datetime(2020, 1, 25, 0, 0): 108, datetime.datetime(2020, 1, 26, 0, 0): 106, datetime.datetime(2020, 1, 27, 0, 0): 108, datetime.datetime(2020, 1, 28, 0, 0): 107, datetime.datetime(2020, 1, 29, 0, 0): 107, datetime.datetime(2020, 1, 30, 0, 0): 109, datetime.datetime(2020, 1, 31, 0, 0): 108, datetime.datetime(2020, 2, 1, 0, 0): 109, datetime.datetime(2020, 2, 2, 0, 0): 110, datetime.datetime(2020, 2, 3, 0, 0): 108, datetime.datetime(2020, 2, 4, 0, 0): 106, datetime.datetime(2020, 2, 5, 0, 0): 108, datetime.datetime(2020, 2, 6, 0, 0): 107, datetime.datetime(2020, 2, 7, 0, 0): 106, datetime.datetime(2020, 2, 8, 0, 0): 105, datetime.datetime(2020, 2, 9, 0, 0): 107, datetime.datetime(2020, 2, 10, 0, 0): 106, datetime.datetime(2020, 2, 11, 0, 0): 108, datetime.datetime(2020, 2, 12, 0, 0): 106, datetime.datetime(2020, 2, 13, 0, 0): 108, datetime.datetime(2020, 2, 14, 0, 0): 108, datetime.datetime(2020, 2, 15, 0, 0): 106, datetime.datetime(2020, 2, 16, 0, 0): 104, datetime.datetime(2020, 2, 17, 0, 0): 106, datetime.datetime(2020, 2, 18, 0, 0): 105, datetime.datetime(2020, 2, 19, 0, 0): 107, datetime.datetime(2020, 2, 20, 0, 0): 106, datetime.datetime(2020, 2, 21, 0, 0): 106, datetime.datetime(2020, 2, 22, 0, 0): 108, datetime.datetime(2020, 2, 23, 0, 0): 106, datetime.datetime(2020, 2, 24, 0, 0): 106, datetime.datetime(2020, 2, 25, 0, 0): 107, datetime.datetime(2020, 2, 26, 0, 0): 107, datetime.datetime(2020, 2, 27, 0, 0): 106, datetime.datetime(2020, 2, 28, 0, 0): 107, datetime.datetime(2020, 2, 29, 0, 0): 107, datetime.datetime(2020, 3, 1, 0, 0): 109, datetime.datetime(2020, 3, 2, 0, 0): 107, datetime.datetime(2020, 3, 3, 0, 0): 106, datetime.datetime(2020, 3, 4, 0, 0): 106, datetime.datetime(2020, 3, 5, 0, 0): 107, datetime.datetime(2020, 3, 6, 0, 0): 105, datetime.datetime(2020, 3, 7, 0, 0): 103, datetime.datetime(2020, 3, 8, 0, 0): 103, datetime.datetime(2020, 3, 9, 0, 0): 105, datetime.datetime(2020, 3, 10, 0, 0): 107, datetime.datetime(2020, 3, 11, 0, 0): 107, datetime.datetime(2020, 3, 12, 0, 0): 105, datetime.datetime(2020, 3, 13, 0, 0): 104, datetime.datetime(2020, 3, 14, 0, 0): 105, datetime.datetime(2020, 3, 15, 0, 0): 103, datetime.datetime(2020, 3, 16, 0, 0): 104, datetime.datetime(2020, 3, 17, 0, 0): 102, datetime.datetime(2020, 3, 18, 0, 0): 102, datetime.datetime(2020, 3, 19, 0, 0): 101, datetime.datetime(2020, 3, 20, 0, 0): 100, datetime.datetime(2020, 3, 21, 0, 0): 99, datetime.datetime(2020, 3, 22, 0, 0): 98, datetime.datetime(2020, 3, 23, 0, 0): 96, datetime.datetime(2020, 3, 24, 0, 0): 94, datetime.datetime(2020, 3, 25, 0, 0): 92, datetime.datetime(2020, 3, 26, 0, 0): 90, datetime.datetime(2020, 3, 27, 0, 0): 90, datetime.datetime(2020, 3, 28, 0, 0): 92, datetime.datetime(2020, 3, 29, 0, 0): 94, datetime.datetime(2020, 3, 30, 0, 0): 96, datetime.datetime(2020, 3, 31, 0, 0): 97, datetime.datetime(2020, 4, 1, 0, 0): 95, datetime.datetime(2020, 4, 2, 0, 0): 93, datetime.datetime(2020, 4, 3, 0, 0): 95, datetime.datetime(2020, 4, 4, 0, 0): 95, datetime.datetime(2020, 4, 5, 0, 0): 94, datetime.datetime(2020, 4, 6, 0, 0): 93, datetime.datetime(2020, 4, 7, 0, 0): 95, datetime.datetime(2020, 4, 8, 0, 0): 97, datetime.datetime(2020, 4, 9, 0, 0): 95, datetime.datetime(2020, 4, 10, 0, 0): 93, datetime.datetime(2020, 4, 11, 0, 0): 91, datetime.datetime(2020, 4, 12, 0, 0): 90, datetime.datetime(2020, 4, 13, 0, 0): 91, datetime.datetime(2020, 4, 14, 0, 0): 90, datetime.datetime(2020, 4, 15, 0, 0): 88, datetime.datetime(2020, 4, 16, 0, 0): 90, datetime.datetime(2020, 4, 17, 0, 0): 90, datetime.datetime(2020, 4, 18, 0, 0): 92, datetime.datetime(2020, 4, 19, 0, 0): 92, datetime.datetime(2020, 4, 20, 0, 0): 92, datetime.datetime(2020, 4, 21, 0, 0): 91, datetime.datetime(2020, 4, 22, 0, 0): 93, datetime.datetime(2020, 4, 23, 0, 0): 95, datetime.datetime(2020, 4, 24, 0, 0): 93, datetime.datetime(2020, 4, 25, 0, 0): 95, datetime.datetime(2020, 4, 26, 0, 0): 97, datetime.datetime(2020, 4, 27, 0, 0): 95, datetime.datetime(2020, 4, 28, 0, 0): 97, datetime.datetime(2020, 4, 29, 0, 0): 95, datetime.datetime(2020, 4, 30, 0, 0): 94, datetime.datetime(2020, 5, 1, 0, 0): 92, datetime.datetime(2020, 5, 2, 0, 0): 92, datetime.datetime(2020, 5, 3, 0, 0): 94, datetime.datetime(2020, 5, 4, 0, 0): 95, datetime.datetime(2020, 5, 5, 0, 0): 95, datetime.datetime(2020, 5, 6, 0, 0): 97, datetime.datetime(2020, 5, 7, 0, 0): 97, datetime.datetime(2020, 5, 8, 0, 0): 96, datetime.datetime(2020, 5, 9, 0, 0): 98, datetime.datetime(2020, 5, 10, 0, 0): 98, datetime.datetime(2020, 5, 11, 0, 0): 100, datetime.datetime(2020, 5, 12, 0, 0): 101, datetime.datetime(2020, 5, 13, 0, 0): 100, datetime.datetime(2020, 5, 14, 0, 0): 102, datetime.datetime(2020, 5, 15, 0, 0): 103, datetime.datetime(2020, 5, 16, 0, 0): 102, datetime.datetime(2020, 5, 17, 0, 0): 103, datetime.datetime(2020, 5, 18, 0, 0): 105, datetime.datetime(2020, 5, 19, 0, 0): 107, datetime.datetime(2020, 5, 20, 0, 0): 105, datetime.datetime(2020, 5, 21, 0, 0): 107, datetime.datetime(2020, 5, 22, 0, 0): 109, datetime.datetime(2020, 5, 23, 0, 0): 111, datetime.datetime(2020, 5, 24, 0, 0): 110, datetime.datetime(2020, 5, 25, 0, 0): 110, datetime.datetime(2020, 5, 26, 0, 0): 112, datetime.datetime(2020, 5, 27, 0, 0): 114, datetime.datetime(2020, 5, 28, 0, 0): 116, datetime.datetime(2020, 5, 29, 0, 0): 117, datetime.datetime(2020, 5, 30, 0, 0): 117, datetime.datetime(2020, 5, 31, 0, 0): 116, datetime.datetime(2020, 6, 1, 0, 0): 116, datetime.datetime(2020, 6, 2, 0, 0): 115, datetime.datetime(2020, 6, 3, 0, 0): 115, datetime.datetime(2020, 6, 4, 0, 0): 115, datetime.datetime(2020, 6, 5, 0, 0): 115, datetime.datetime(2020, 6, 6, 0, 0): 114, datetime.datetime(2020, 6, 7, 0, 0): 116, datetime.datetime(2020, 6, 8, 0, 0): 117, datetime.datetime(2020, 6, 9, 0, 0): 119, datetime.datetime(2020, 6, 10, 0, 0): 119, datetime.datetime(2020, 6, 11, 0, 0): 119, datetime.datetime(2020, 6, 12, 0, 0): 119, datetime.datetime(2020, 6, 13, 0, 0): 118, datetime.datetime(2020, 6, 14, 0, 0): 118, datetime.datetime(2020, 6, 15, 0, 0): 116, datetime.datetime(2020, 6, 16, 0, 0): 115, datetime.datetime(2020, 6, 17, 0, 0): 115, datetime.datetime(2020, 6, 18, 0, 0): 114, datetime.datetime(2020, 6, 19, 0, 0): 113, datetime.datetime(2020, 6, 20, 0, 0): 114, datetime.datetime(2020, 6, 21, 0, 0): 112, datetime.datetime(2020, 6, 22, 0, 0): 112, datetime.datetime(2020, 6, 23, 0, 0): 110, datetime.datetime(2020, 6, 24, 0, 0): 112, datetime.datetime(2020, 6, 25, 0, 0): 110, datetime.datetime(2020, 6, 26, 0, 0): 108, datetime.datetime(2020, 6, 27, 0, 0): 106, datetime.datetime(2020, 6, 28, 0, 0): 108, datetime.datetime(2020, 6, 29, 0, 0): 107, datetime.datetime(2020, 6, 30, 0, 0): 106, datetime.datetime(2020, 7, 1, 0, 0): 105, datetime.datetime(2020, 7, 2, 0, 0): 105, datetime.datetime(2020, 7, 3, 0, 0): 106, datetime.datetime(2020, 7, 4, 0, 0): 107, datetime.datetime(2020, 7, 5, 0, 0): 106, datetime.datetime(2020, 7, 6, 0, 0): 107, datetime.datetime(2020, 7, 7, 0, 0): 108, datetime.datetime(2020, 7, 8, 0, 0): 108, datetime.datetime(2020, 7, 9, 0, 0): 110, datetime.datetime(2020, 7, 10, 0, 0): 108, datetime.datetime(2020, 7, 11, 0, 0): 108, datetime.datetime(2020, 7, 12, 0, 0): 106, datetime.datetime(2020, 7, 13, 0, 0): 104, datetime.datetime(2020, 7, 14, 0, 0): 103, datetime.datetime(2020, 7, 15, 0, 0): 101, datetime.datetime(2020, 7, 16, 0, 0): 102, datetime.datetime(2020, 7, 17, 0, 0): 100, datetime.datetime(2020, 7, 18, 0, 0): 101, datetime.datetime(2020, 7, 19, 0, 0): 100, datetime.datetime(2020, 7, 20, 0, 0): 101, datetime.datetime(2020, 7, 21, 0, 0): 99, datetime.datetime(2020, 7, 22, 0, 0): 101, datetime.datetime(2020, 7, 23, 0, 0): 100, datetime.datetime(2020, 7, 24, 0, 0): 100, datetime.datetime(2020, 7, 25, 0, 0): 100, datetime.datetime(2020, 7, 26, 0, 0): 102, datetime.datetime(2020, 7, 27, 0, 0): 102, datetime.datetime(2020, 7, 28, 0, 0): 101, datetime.datetime(2020, 7, 29, 0, 0): 99, datetime.datetime(2020, 7, 30, 0, 0): 99, datetime.datetime(2020, 7, 31, 0, 0): 99, datetime.datetime(2020, 8, 1, 0, 0): 97, datetime.datetime(2020, 8, 2, 0, 0): 98, datetime.datetime(2020, 8, 3, 0, 0): 100, datetime.datetime(2020, 8, 4, 0, 0): 99, datetime.datetime(2020, 8, 5, 0, 0): 100, datetime.datetime(2020, 8, 6, 0, 0): 100, datetime.datetime(2020, 8, 7, 0, 0): 102, datetime.datetime(2020, 8, 8, 0, 0): 103, datetime.datetime(2020, 8, 9, 0, 0): 105, datetime.datetime(2020, 8, 10, 0, 0): 103, datetime.datetime(2020, 8, 11, 0, 0): 104, datetime.datetime(2020, 8, 12, 0, 0): 103, datetime.datetime(2020, 8, 13, 0, 0): 101, datetime.datetime(2020, 8, 14, 0, 0): 102, datetime.datetime(2020, 8, 15, 0, 0): 103, datetime.datetime(2020, 8, 16, 0, 0): 105, datetime.datetime(2020, 8, 17, 0, 0): 104, datetime.datetime(2020, 8, 18, 0, 0): 102, datetime.datetime(2020, 8, 19, 0, 0): 100, datetime.datetime(2020, 8, 20, 0, 0): 100, datetime.datetime(2020, 8, 21, 0, 0): 98, datetime.datetime(2020, 8, 22, 0, 0): 97, datetime.datetime(2020, 8, 23, 0, 0): 96, datetime.datetime(2020, 8, 24, 0, 0): 97, datetime.datetime(2020, 8, 25, 0, 0): 98, datetime.datetime(2020, 8, 26, 0, 0): 98, datetime.datetime(2020, 8, 27, 0, 0): 99, datetime.datetime(2020, 8, 28, 0, 0): 99, datetime.datetime(2020, 8, 29, 0, 0): 100, datetime.datetime(2020, 8, 30, 0, 0): 100, datetime.datetime(2020, 8, 31, 0, 0): 101, datetime.datetime(2020, 9, 1, 0, 0): 99, datetime.datetime(2020, 9, 2, 0, 0): 99, datetime.datetime(2020, 9, 3, 0, 0): 100, datetime.datetime(2020, 9, 4, 0, 0): 102, datetime.datetime(2020, 9, 5, 0, 0): 100, datetime.datetime(2020, 9, 6, 0, 0): 101, datetime.datetime(2020, 9, 7, 0, 0): 102, datetime.datetime(2020, 9, 8, 0, 0): 102, datetime.datetime(2020, 9, 9, 0, 0): 101, datetime.datetime(2020, 9, 10, 0, 0): 103, datetime.datetime(2020, 9, 11, 0, 0): 105, datetime.datetime(2020, 9, 12, 0, 0): 104, datetime.datetime(2020, 9, 13, 0, 0): 105, datetime.datetime(2020, 9, 14, 0, 0): 105, datetime.datetime(2020, 9, 15, 0, 0): 103, datetime.datetime(2020, 9, 16, 0, 0): 103, datetime.datetime(2020, 9, 17, 0, 0): 105, datetime.datetime(2020, 9, 18, 0, 0): 103, datetime.datetime(2020, 9, 19, 0, 0): 105, datetime.datetime(2020, 9, 20, 0, 0): 104, datetime.datetime(2020, 9, 21, 0, 0): 106, datetime.datetime(2020, 9, 22, 0, 0): 105, datetime.datetime(2020, 9, 23, 0, 0): 106, datetime.datetime(2020, 9, 24, 0, 0): 105, datetime.datetime(2020, 9, 25, 0, 0): 107, datetime.datetime(2020, 9, 26, 0, 0): 107, datetime.datetime(2020, 9, 27, 0, 0): 108, datetime.datetime(2020, 9, 28, 0, 0): 109, datetime.datetime(2020, 9, 29, 0, 0): 110, datetime.datetime(2020, 9, 30, 0, 0): 112, datetime.datetime(2020, 10, 1, 0, 0): 110, datetime.datetime(2020, 10, 2, 0, 0): 111, datetime.datetime(2020, 10, 3, 0, 0): 109, datetime.datetime(2020, 10, 4, 0, 0): 110, datetime.datetime(2020, 10, 5, 0, 0): 110, datetime.datetime(2020, 10, 6, 0, 0): 111, datetime.datetime(2020, 10, 7, 0, 0): 111, datetime.datetime(2020, 10, 8, 0, 0): 110, datetime.datetime(2020, 10, 9, 0, 0): 109, datetime.datetime(2020, 10, 10, 0, 0): 109, datetime.datetime(2020, 10, 11, 0, 0): 109, datetime.datetime(2020, 10, 12, 0, 0): 108, datetime.datetime(2020, 10, 13, 0, 0): 108, datetime.datetime(2020, 10, 14, 0, 0): 110, datetime.datetime(2020, 10, 15, 0, 0): 112, datetime.datetime(2020, 10, 16, 0, 0): 113, datetime.datetime(2020, 10, 17, 0, 0): 115, datetime.datetime(2020, 10, 18, 0, 0): 114, datetime.datetime(2020, 10, 19, 0, 0): 115, datetime.datetime(2020, 10, 20, 0, 0): 116, datetime.datetime(2020, 10, 21, 0, 0): 117, datetime.datetime(2020, 10, 22, 0, 0): 117, datetime.datetime(2020, 10, 23, 0, 0): 119, datetime.datetime(2020, 10, 24, 0, 0): 121, datetime.datetime(2020, 10, 25, 0, 0): 119, datetime.datetime(2020, 10, 26, 0, 0): 120, datetime.datetime(2020, 10, 27, 0, 0): 120, datetime.datetime(2020, 10, 28, 0, 0): 122, datetime.datetime(2020, 10, 29, 0, 0): 124, datetime.datetime(2020, 10, 30, 0, 0): 123, datetime.datetime(2020, 10, 31, 0, 0): 125, datetime.datetime(2020, 11, 1, 0, 0): 124, datetime.datetime(2020, 11, 2, 0, 0): 122, datetime.datetime(2020, 11, 3, 0, 0): 123, datetime.datetime(2020, 11, 4, 0, 0): 125, datetime.datetime(2020, 11, 5, 0, 0): 125, datetime.datetime(2020, 11, 6, 0, 0): 124, datetime.datetime(2020, 11, 7, 0, 0): 122, datetime.datetime(2020, 11, 8, 0, 0): 120, datetime.datetime(2020, 11, 9, 0, 0): 119, datetime.datetime(2020, 11, 10, 0, 0): 119, datetime.datetime(2020, 11, 11, 0, 0): 118, datetime.datetime(2020, 11, 12, 0, 0): 118, datetime.datetime(2020, 11, 13, 0, 0): 118, datetime.datetime(2020, 11, 14, 0, 0): 119, datetime.datetime(2020, 11, 15, 0, 0): 121, datetime.datetime(2020, 11, 16, 0, 0): 120, datetime.datetime(2020, 11, 17, 0, 0): 120, datetime.datetime(2020, 11, 18, 0, 0): 118, datetime.datetime(2020, 11, 19, 0, 0): 116, datetime.datetime(2020, 11, 20, 0, 0): 114, datetime.datetime(2020, 11, 21, 0, 0): 115, datetime.datetime(2020, 11, 22, 0, 0): 113, datetime.datetime(2020, 11, 23, 0, 0): 112, datetime.datetime(2020, 11, 24, 0, 0): 111, datetime.datetime(2020, 11, 25, 0, 0): 112, datetime.datetime(2020, 11, 26, 0, 0): 114, datetime.datetime(2020, 11, 27, 0, 0): 112, datetime.datetime(2020, 11, 28, 0, 0): 114, datetime.datetime(2020, 11, 29, 0, 0): 116, datetime.datetime(2020, 11, 30, 0, 0): 115, datetime.datetime(2020, 12, 1, 0, 0): 114, datetime.datetime(2020, 12, 2, 0, 0): 113, datetime.datetime(2020, 12, 3, 0, 0): 111, datetime.datetime(2020, 12, 4, 0, 0): 110, datetime.datetime(2020, 12, 5, 0, 0): 112, datetime.datetime(2020, 12, 6, 0, 0): 111, datetime.datetime(2020, 12, 7, 0, 0): 110, datetime.datetime(2020, 12, 8, 0, 0): 108, datetime.datetime(2020, 12, 9, 0, 0): 110, datetime.datetime(2020, 12, 10, 0, 0): 111, datetime.datetime(2020, 12, 11, 0, 0): 111, datetime.datetime(2020, 12, 12, 0, 0): 111, datetime.datetime(2020, 12, 13, 0, 0): 111, datetime.datetime(2020, 12, 14, 0, 0): 113, datetime.datetime(2020, 12, 15, 0, 0): 114, datetime.datetime(2020, 12, 16, 0, 0): 116, datetime.datetime(2020, 12, 17, 0, 0): 115, datetime.datetime(2020, 12, 18, 0, 0): 115, datetime.datetime(2020, 12, 19, 0, 0): 113, datetime.datetime(2020, 12, 20, 0, 0): 115, datetime.datetime(2020, 12, 21, 0, 0): 115, datetime.datetime(2020, 12, 22, 0, 0): 115, datetime.datetime(2020, 12, 23, 0, 0): 113, datetime.datetime(2020, 12, 24, 0, 0): 111, datetime.datetime(2020, 12, 25, 0, 0): 111, datetime.datetime(2020, 12, 26, 0, 0): 109, datetime.datetime(2020, 12, 27, 0, 0): 110, datetime.datetime(2020, 12, 28, 0, 0): 108, datetime.datetime(2020, 12, 29, 0, 0): 107, datetime.datetime(2020, 12, 30, 0, 0): 106}}\""
            ]
          },
          "metadata": {},
          "execution_count": 117
        }
      ]
    },
    {
      "cell_type": "markdown",
      "metadata": {
        "id": "_4ny5bs5-wZO"
      },
      "source": [
        "![image.png](data:image/png;base64,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)"
      ]
    },
    {
      "cell_type": "code",
      "metadata": {
        "id": "SF4196Md3zaD",
        "outputId": "063fc11e-b2bc-48bf-c1eb-39c6c24d149a",
        "colab": {
          "base_uri": "https://localhost:8080/"
        }
      },
      "source": [
        "stage_data['Station 1'][datetime(2020, 8, 30)]"
      ],
      "execution_count": null,
      "outputs": [
        {
          "output_type": "execute_result",
          "data": {
            "text/plain": [
              "58"
            ]
          },
          "metadata": {},
          "execution_count": 118
        }
      ]
    },
    {
      "cell_type": "code",
      "metadata": {
        "id": "QTb7yMUX3zXF",
        "outputId": "2ad92d0d-89fb-4c85-f022-ca85dbe483c2",
        "colab": {
          "base_uri": "https://localhost:8080/",
          "height": 337
        }
      },
      "source": [
        "plt.figure(figsize=(15, 5))\n",
        "\n",
        "for station in stations:\n",
        "    plt.plot(list(stage_data[station].keys()), list(stage_data[station].values()), label=station)\n",
        "\n",
        "plt.legend()"
      ],
      "execution_count": null,
      "outputs": [
        {
          "output_type": "execute_result",
          "data": {
            "text/plain": [
              "<matplotlib.legend.Legend at 0x7f8a36cfa1d0>"
            ]
          },
          "metadata": {},
          "execution_count": 119
        },
        {
          "output_type": "display_data",
          "data": {
            "image/png": "[encoded data removed]",
            "text/plain": [
              "<Figure size 1080x360 with 1 Axes>"
            ]
          },
          "metadata": {
            "needs_background": "light"
          }
        }
      ]
    },
    {
      "cell_type": "markdown",
      "metadata": {
        "id": "miYQKMiT-0SN"
      },
      "source": [
        "Does it seem ackward? Dictionary inside another dictionary?"
      ]
    },
    {
      "cell_type": "code",
      "metadata": {
        "id": "7PeqxQ-v27LT"
      },
      "source": [
        "# the indices are perfectly aligned\n",
        "import pandas as pd\n",
        "df = pd.DataFrame(stage_data)"
      ],
      "execution_count": null,
      "outputs": []
    },
    {
      "cell_type": "code",
      "metadata": {
        "id": "Zfb_BagxAfa7",
        "outputId": "06774415-802d-4e73-d7cd-39a3b98847a9",
        "colab": {
          "base_uri": "https://localhost:8080/",
          "height": 348
        }
      },
      "source": [
        "df.plot(figsize=(15, 5))"
      ],
      "execution_count": null,
      "outputs": [
        {
          "output_type": "execute_result",
          "data": {
            "text/plain": [
              "<matplotlib.axes._subplots.AxesSubplot at 0x7f8a33590750>"
            ]
          },
          "metadata": {},
          "execution_count": 126
        },
        {
          "output_type": "display_data",
          "data": {
            "image/png": "[encoded data removed]",
            "text/plain": [
              "<Figure size 1080x360 with 1 Axes>"
            ]
          },
          "metadata": {
            "needs_background": "light"
          }
        }
      ]
    },
    {
      "cell_type": "markdown",
      "metadata": {
        "id": "_cKXw5mrCyg-"
      },
      "source": [
        "## Exercise"
      ]
    },
    {
      "cell_type": "markdown",
      "metadata": {
        "id": "PH-pNYQiC1NS"
      },
      "source": [
        "![image.png](data:image/png;base64,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)"
      ]
    },
    {
      "cell_type": "markdown",
      "metadata": {
        "id": "nz0dcyplC7Tx"
      },
      "source": [
        "* The daily discharge on the main river?\n",
        "* The mean discharge on the main river?\n",
        "* The monthly mean discharge on the main river?\n",
        "* The days of maximum and minimum discharge?\n",
        "\n",
        "Using the pandas dataframe or not???"
      ]
    },
    {
      "cell_type": "markdown",
      "metadata": {
        "id": "cjh2U9cniS0v"
      },
      "source": [
        "## Functions"
      ]
    },
    {
      "cell_type": "markdown",
      "metadata": {
        "id": "tSdVTHjbiUiH"
      },
      "source": [
        "A function is a block of code which only runs when it is called.\n",
        "\n",
        "You can pass data, known as parameters, into a function.\n",
        "\n",
        "A function can return data as a result."
      ]
    },
    {
      "cell_type": "code",
      "metadata": {
        "id": "IEL4n6PffRV9"
      },
      "source": [
        "def square(x):\n",
        "    return x**2\n",
        "\n",
        "square(11)"
      ],
      "execution_count": null,
      "outputs": []
    },
    {
      "cell_type": "code",
      "metadata": {
        "id": "kVyTqodhfRSe"
      },
      "source": [
        "def power(base, expoent):\n",
        "    return base**expoent\n",
        "\n",
        "power(2, 8)"
      ],
      "execution_count": null,
      "outputs": []
    },
    {
      "cell_type": "code",
      "metadata": {
        "id": "WQyzfe8gfROn"
      },
      "source": [
        "# base and expoent are required arguments\n",
        "# power(2)"
      ],
      "execution_count": null,
      "outputs": []
    },
    {
      "cell_type": "code",
      "metadata": {
        "id": "2RlPfMMqfRLJ"
      },
      "source": [
        "power(expoent=8, base=2)"
      ],
      "execution_count": null,
      "outputs": []
    },
    {
      "cell_type": "code",
      "metadata": {
        "id": "BMmGbun_fRHy"
      },
      "source": [
        "# b is an optional (default) parameter\n",
        "# def y = a*x + b\n",
        "def linear(x, a, b=0):\n",
        "    y = a * x + b\n",
        "    return y\n",
        "\n",
        "linear(2, 3)"
      ],
      "execution_count": null,
      "outputs": []
    },
    {
      "cell_type": "code",
      "metadata": {
        "id": "JGywimlifREY"
      },
      "source": [
        "# nomenclature 2 is a positional argument\n",
        "# -10 and 3 are keyword arguments\n",
        "linear(2, b=-10, a=3)"
      ],
      "execution_count": null,
      "outputs": []
    },
    {
      "cell_type": "code",
      "metadata": {
        "id": "ChH4gniPk5ZS"
      },
      "source": [
        "# y = a*x^2 + b*x + c\n",
        "def quadratic(x, a, b=1, c=0):\n",
        "    y = a * power(x, 2) + b*x + c\n",
        "    return y"
      ],
      "execution_count": null,
      "outputs": []
    },
    {
      "cell_type": "code",
      "metadata": {
        "id": "61ykMdGJk5Vw"
      },
      "source": [
        "quadratic(a=1, x=2)"
      ],
      "execution_count": null,
      "outputs": []
    },
    {
      "cell_type": "markdown",
      "metadata": {
        "id": "6wrA0UwXsGly"
      },
      "source": [
        "Explain the scope. Variables have specific scope inside the function..."
      ]
    },
    {
      "cell_type": "code",
      "metadata": {
        "id": "nnNzVXFAk5Sf"
      },
      "source": [
        "import math"
      ],
      "execution_count": null,
      "outputs": []
    },
    {
      "cell_type": "code",
      "metadata": {
        "id": "V-sHnb0_k5Pb"
      },
      "source": [
        "dir(math)"
      ],
      "execution_count": null,
      "outputs": []
    },
    {
      "cell_type": "markdown",
      "metadata": {
        "id": "DkFG6WTCyJrv"
      },
      "source": [
        "## The value <b>None</b>"
      ]
    },
    {
      "cell_type": "markdown",
      "metadata": {
        "id": "_3NvN-46yQmz"
      },
      "source": [
        "\n",
        "The value **None** is used to define a null value. **It is not the same as an empty string, False, or a zero.** It is a data type of the class NoneType object."
      ]
    },
    {
      "cell_type": "code",
      "metadata": {
        "id": "SSpOUxywk5Mb"
      },
      "source": [
        "None == \"\", None == False, None == 0"
      ],
      "execution_count": null,
      "outputs": []
    },
    {
      "cell_type": "code",
      "metadata": {
        "id": "QJlgy6PQoe6D"
      },
      "source": [
        "# correct way of testing (is -> identity operator)\n",
        "x = 0\n",
        "x is None, x is not None"
      ],
      "execution_count": null,
      "outputs": []
    },
    {
      "cell_type": "code",
      "metadata": {
        "id": "FcEs2UaCqibC"
      },
      "source": [
        "bool(None), bool(0), bool(False), bool(123)"
      ],
      "execution_count": null,
      "outputs": []
    },
    {
      "cell_type": "code",
      "metadata": {
        "id": "QpT8tF1Ap-42"
      },
      "source": [
        "# None is absence of value, so we cannot implement this...\n",
        "def check_value(x):\n",
        "    if x:\n",
        "        print(f'{x} has a value')\n",
        "    else:\n",
        "        print(f'{x} has no value at all')"
      ],
      "execution_count": null,
      "outputs": []
    },
    {
      "cell_type": "code",
      "metadata": {
        "id": "JzQXAoYYpDBU"
      },
      "source": [
        "check_value(None), check_value(0), check_value(False)"
      ],
      "execution_count": null,
      "outputs": []
    },
    {
      "cell_type": "code",
      "metadata": {
        "id": "6vjc9wc7pvwj"
      },
      "source": [
        "# Why is that... that's because if x: is testing the BOOLEAN result of x.\n",
        "# To test it correctly we should do:\n",
        "\n",
        "def check_value(x):\n",
        "    if  x is None:\n",
        "        print(f'{x} has no value at all')\n",
        "    else:\n",
        "        print(f'{x} has a value')\n"
      ],
      "execution_count": null,
      "outputs": []
    },
    {
      "cell_type": "code",
      "metadata": {
        "id": "j3ss1ajeqzRZ"
      },
      "source": [
        "check_value(None), check_value(0), check_value(False)"
      ],
      "execution_count": null,
      "outputs": []
    },
    {
      "cell_type": "markdown",
      "metadata": {
        "id": "C4vpytd0y13c"
      },
      "source": [
        "## Exercise"
      ]
    },
    {
      "cell_type": "markdown",
      "metadata": {
        "id": "_YoZ_LJoRr1H"
      },
      "source": [
        "OBS: Show how to find the number of days in a specific month (internet search)."
      ]
    },
    {
      "cell_type": "code",
      "metadata": {
        "id": "TCFl-Rm6ZH0W"
      },
      "source": [
        "def create_random_rain(start, end, max_rain=100, seed=None):\n",
        "\n",
        "    if seed is not None:\n",
        "        random.seed(seed)\n",
        "\n",
        "    if start >= end:\n",
        "        return None\n",
        "\n",
        "    # use timedelta to get days\n",
        "    days = (end - start).days\n",
        "\n",
        "    return {start + timedelta(days=i): random.randint(0, max_rain) for i in range(days)}\n",
        "            "
      ],
      "execution_count": null,
      "outputs": []
    },
    {
      "cell_type": "code",
      "metadata": {
        "id": "tAv8DuIzkOUz"
      },
      "source": [
        "rain"
      ],
      "execution_count": null,
      "outputs": []
    },
    {
      "cell_type": "code",
      "metadata": {
        "id": "9SmXtFUvZHyK"
      },
      "source": [
        "rain = create_random_rain(datetime(2021, 1, 1), datetime(2021, 7, 1))\n",
        "\n",
        "plt.figure(figsize=(10, 5))\n",
        "plt.bar(rain.keys(), rain.values())"
      ],
      "execution_count": null,
      "outputs": []
    },
    {
      "cell_type": "code",
      "metadata": {
        "id": "SMzujxJSZHtJ"
      },
      "source": [
        "def create_random_stage(start, end, damp=1, seed=None):\n",
        "\n",
        "    if start >= end:\n",
        "        return\n",
        "\n",
        "    if seed is not None:\n",
        "        random.seed(seed)\n",
        "\n",
        "    days = (end - start).days\n",
        "\n",
        "    stage = {start: random.randint(50, 100)}\n",
        "\n",
        "    return {start + timedelta(i + 1): stage[start]*damp + random.normalvariate(0, 0.5) for i in range(days)}"
      ],
      "execution_count": null,
      "outputs": []
    },
    {
      "cell_type": "code",
      "metadata": {
        "id": "2A7gLcDpbD90"
      },
      "source": [
        "stage = create_random_stage (datetime(2021, 1, 1), datetime(2022, 7, 1))\n",
        "plt.figure(figsize=(15, 10))\n",
        "\n",
        "plt.plot(list(stage.values()))"
      ],
      "execution_count": null,
      "outputs": []
    },
    {
      "cell_type": "code",
      "metadata": {
        "id": "hDdjZ8WNbD7Y"
      },
      "source": [
        "list(stage.values())"
      ],
      "execution_count": null,
      "outputs": []
    },
    {
      "cell_type": "code",
      "metadata": {
        "id": "BirPXmUYbD43"
      },
      "source": [],
      "execution_count": null,
      "outputs": []
    },
    {
      "cell_type": "code",
      "metadata": {
        "id": "nZqHeWUzbD2Z"
      },
      "source": [],
      "execution_count": null,
      "outputs": []
    },
    {
      "cell_type": "code",
      "metadata": {
        "id": "pr2gJpyDj8ZC"
      },
      "source": [
        "from calendar import monthrange\n",
        "\n",
        "def create_random_rain(year, month, max_rain=100, seed=None):\n",
        "    if seed is not None:\n",
        "        random.seed(seed)\n",
        "\n",
        "    days_in_month = monthrange(year, month)[1]\n",
        "    return {(year, month, i): random.randint(0, max_rain) for i in range(1, days_in_month)}"
      ],
      "execution_count": null,
      "outputs": []
    },
    {
      "cell_type": "code",
      "metadata": {
        "id": "Eoen1viBReBt"
      },
      "source": [
        "rain = create_random_rain(2021, 11, max_rain=50, seed=2)\n",
        "plt.bar(range(1, len(rain)+1), rain.values())"
      ],
      "execution_count": null,
      "outputs": []
    },
    {
      "cell_type": "code",
      "metadata": {
        "id": "HSCyDhI9S1P3"
      },
      "source": [
        "def create_random_stage(year, month, seed=None):\n",
        "    if seed is not None:\n",
        "        random.seed(seed)\n",
        "\n",
        "    stage = [random.randint(0, 50)]\n",
        "\n",
        "    days_in_month = monthrange(year, month)[1]\n",
        "    for i in range(days_in_month):\n",
        "        stage.append(stage[-1] + random.uniform(-1, 1))\n",
        "    return stage"
      ],
      "execution_count": null,
      "outputs": []
    },
    {
      "cell_type": "code",
      "metadata": {
        "id": "4qSv-nYiS1Nb"
      },
      "source": [
        "plt.plot(create_random_stage(2021, 11))"
      ],
      "execution_count": null,
      "outputs": []
    },
    {
      "cell_type": "code",
      "metadata": {
        "id": "5hQ3z0XbXaoi"
      },
      "source": [
        "rain"
      ],
      "execution_count": null,
      "outputs": []
    },
    {
      "cell_type": "code",
      "metadata": {
        "id": "ouPVqMm6XamH"
      },
      "source": [],
      "execution_count": null,
      "outputs": []
    },
    {
      "cell_type": "code",
      "metadata": {
        "id": "HwRXBXPoXajs"
      },
      "source": [],
      "execution_count": null,
      "outputs": []
    },
    {
      "cell_type": "code",
      "metadata": {
        "id": "oM__4BvxXahL"
      },
      "source": [],
      "execution_count": null,
      "outputs": []
    },
    {
      "cell_type": "code",
      "metadata": {
        "id": "zbBTb9QyXaeq"
      },
      "source": [],
      "execution_count": null,
      "outputs": []
    },
    {
      "cell_type": "code",
      "metadata": {
        "id": "UaFUaXa4XacK"
      },
      "source": [],
      "execution_count": null,
      "outputs": []
    },
    {
      "cell_type": "code",
      "metadata": {
        "id": "CLKjYYYxS1GD"
      },
      "source": [],
      "execution_count": null,
      "outputs": []
    },
    {
      "cell_type": "code",
      "metadata": {
        "id": "g3DtK-ZnV8CS"
      },
      "source": [],
      "execution_count": null,
      "outputs": []
    },
    {
      "cell_type": "code",
      "metadata": {
        "id": "v0DkVH0XV8AR"
      },
      "source": [],
      "execution_count": null,
      "outputs": []
    },
    {
      "cell_type": "code",
      "metadata": {
        "id": "qdLTRD8AV795"
      },
      "source": [],
      "execution_count": null,
      "outputs": []
    },
    {
      "cell_type": "code",
      "metadata": {
        "id": "-TvTkRyvV77a"
      },
      "source": [],
      "execution_count": null,
      "outputs": []
    },
    {
      "cell_type": "code",
      "metadata": {
        "id": "PKFNKi7doNZC"
      },
      "source": [
        "rain = create_random_rain(2021, 1)"
      ],
      "execution_count": null,
      "outputs": []
    },
    {
      "cell_type": "code",
      "metadata": {
        "id": "-nKLIbkNPfb7"
      },
      "source": [
        "pd.DataFrame(pd.Series(rain).rename('estacao 1'))"
      ],
      "execution_count": null,
      "outputs": []
    },
    {
      "cell_type": "code",
      "metadata": {
        "id": "VbF8jh6uPqSA"
      },
      "source": [
        "idx = pd.MultiIndex.from_tuples(rain.keys(), names=['year', 'month', 'day'])"
      ],
      "execution_count": null,
      "outputs": []
    },
    {
      "cell_type": "code",
      "metadata": {
        "id": "vpVf7Fd-QkF6"
      },
      "source": [
        "pd.DataFrame(rain,)"
      ],
      "execution_count": null,
      "outputs": []
    },
    {
      "cell_type": "code",
      "metadata": {
        "id": "5fAE7YbGQDDx"
      },
      "source": [
        "pd.DataFrame.from_dict(rain, orient='index')"
      ],
      "execution_count": null,
      "outputs": []
    },
    {
      "cell_type": "code",
      "metadata": {
        "id": "jTWLYbUvoNVs"
      },
      "source": [
        "import pandas as pd\n",
        "pd.DataFrame(rain)"
      ],
      "execution_count": null,
      "outputs": []
    },
    {
      "cell_type": "code",
      "metadata": {
        "id": "hIGPDDwOoNSl"
      },
      "source": [],
      "execution_count": null,
      "outputs": []
    },
    {
      "cell_type": "code",
      "metadata": {
        "id": "q88lLPpxoNHv"
      },
      "source": [],
      "execution_count": null,
      "outputs": []
    },
    {
      "cell_type": "code",
      "metadata": {
        "id": "sbxWTH-C_vWe"
      },
      "source": [
        "df = pd.DataFrame.from_dict(data, orient=\"index\").stack().to_frame()\n",
        "df = pd.DataFrame(df[0].values.tolist(), index=df.index)\n",
        "df"
      ],
      "execution_count": null,
      "outputs": []
    },
    {
      "cell_type": "code",
      "metadata": {
        "id": "aNZYtqsj_0WJ"
      },
      "source": [
        "data = {}\n",
        "for station in stations:\n",
        "    daily_rain = []\n",
        "    river_stage = [100]\n",
        "    for _ in range(31):\n",
        "        daily_rain.append(random.randint(0, 100))\n",
        "        river_stage.append(river_stage[-1] + random.randint(-1,1))\n",
        "\n",
        "\n",
        "    # data.update({station: station_data})    \n",
        "    data[station] = daily_rain\n",
        "\n",
        "str(data)"
      ],
      "execution_count": null,
      "outputs": []
    },
    {
      "cell_type": "code",
      "metadata": {
        "id": "mR75Ml4M_4z2"
      },
      "source": [
        "pd.DataFrame(data, index=range(1, 32))"
      ],
      "execution_count": null,
      "outputs": []
    },
    {
      "cell_type": "code",
      "metadata": {
        "id": "hKao91OYc0MX"
      },
      "source": [],
      "execution_count": null,
      "outputs": []
    }
  ]
}